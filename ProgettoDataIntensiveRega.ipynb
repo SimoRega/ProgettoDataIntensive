{
  "cells": [
    {
      "cell_type": "markdown",
      "metadata": {
        "id": "view-in-github",
        "colab_type": "text"
      },
      "source": [
        "<a href=\"https://colab.research.google.com/github/SimoRega/ProgettoDataIntensive/blob/main/ProgettoDataIntensiveRega.ipynb\" target=\"_parent\"><img src=\"https://colab.research.google.com/assets/colab-badge.svg\" alt=\"Open In Colab\"/></a>"
      ]
    },
    {
      "cell_type": "code",
      "execution_count": 309,
      "metadata": {
        "id": "FArP5efKf5sA"
      },
      "outputs": [],
      "source": [
        "%matplotlib inline\n",
        "import os.path\n",
        "import numpy as np\n",
        "import pandas as pd\n",
        "import matplotlib.pyplot as plt\n",
        "import matplotlib.patches as mpatches\n",
        "import seaborn as sb"
      ]
    },
    {
      "cell_type": "markdown",
      "metadata": {
        "id": "q2IYw5xPgL-F"
      },
      "source": [
        "# **Descrizione del Problema**\n",
        "Il dataset scelto per questo progetto è stato reperito da kaggle, di seguito il link.\n",
        "\n",
        "https://www.kaggle.com/datasets/sashankpillai/spotify-top-200-charts-20202021\n",
        "\n",
        "Questo dataset include tutte le canzoni che sono entrate nella classifica settimanale Top 200 su Spotify negli anni 2020-2021.\n",
        "\n",
        "L'obiettivo del progetto è quello di predire una variabile discreta binaria \"Top100Chart\" con la quale definire se una canzone ha le potenzialità per entrare in una classifica (Sarebbe stato interessante fare una Top10Chart ma non erano presenti abbastanza dati su cui allenare il modello poichè le canzoni entrate in Top10 nel dataset sono solo l'8.5%, quindi mi sono basato su una Top100Chart come vedremo dopo).\n"
      ]
    },
    {
      "cell_type": "code",
      "execution_count": 310,
      "metadata": {
        "colab": {
          "base_uri": "https://localhost:8080/"
        },
        "id": "-huOVSK4gcv_",
        "outputId": "97822c8c-715a-4cb7-a339-a19cab98f920"
      },
      "outputs": [
        {
          "output_type": "stream",
          "name": "stdout",
          "text": [
            "Mounted at /content/drive/\n"
          ]
        }
      ],
      "source": [
        "#importo il dataset automaticamente dal mio google drive\n",
        "from google.colab import drive\n",
        "drive.mount('/content/drive/',force_remount=True);\n",
        "with open('/content/drive/My Drive/Colab Notebooks/spotify_dataset.csv') as f:\n",
        "  spotify_raw_data=pd.read_csv(f,index_col=0)\n"
      ]
    },
    {
      "cell_type": "markdown",
      "source": [
        "Diamo un piccolo sguardo a come si presenta il nostro Dataset allo stato grezzo senza alcuna manipolazione o modifica"
      ],
      "metadata": {
        "id": "fcFXj4KAFtWi"
      }
    },
    {
      "cell_type": "code",
      "source": [
        "spotify_raw_data.head(10)"
      ],
      "metadata": {
        "colab": {
          "base_uri": "https://localhost:8080/",
          "height": 884
        },
        "id": "QISCWSU1FpAB",
        "outputId": "1506a0ee-2306-4727-ede0-64898513b07e"
      },
      "execution_count": 311,
      "outputs": [
        {
          "output_type": "execute_result",
          "data": {
            "text/plain": [
              "       Highest Charting Position  Number of Times Charted  \\\n",
              "Index                                                       \n",
              "1                              1                        8   \n",
              "2                              2                        3   \n",
              "3                              1                       11   \n",
              "4                              3                        5   \n",
              "5                              5                        1   \n",
              "6                              1                       18   \n",
              "7                              3                       16   \n",
              "8                              2                       10   \n",
              "9                              3                        8   \n",
              "10                             8                       10   \n",
              "\n",
              "      Week of Highest Charting                          Song Name     Streams  \\\n",
              "Index                                                                           \n",
              "1       2021-07-23--2021-07-30                            Beggin'  48,633,449   \n",
              "2       2021-07-23--2021-07-30          STAY (with Justin Bieber)  47,248,719   \n",
              "3       2021-06-25--2021-07-02                           good 4 u  40,162,559   \n",
              "4       2021-07-02--2021-07-09                         Bad Habits  37,799,456   \n",
              "5       2021-07-23--2021-07-30  INDUSTRY BABY (feat. Jack Harlow)  33,948,454   \n",
              "6       2021-05-07--2021-05-14     MONTERO (Call Me By Your Name)  30,071,134   \n",
              "7       2021-05-14--2021-05-21           Kiss Me More (feat. SZA)  29,356,736   \n",
              "8       2021-06-18--2021-06-25                         Todo De Ti  26,951,613   \n",
              "9       2021-06-18--2021-06-25                           Yonaguni  25,030,128   \n",
              "10      2021-07-02--2021-07-09              I WANNA BE YOUR SLAVE  24,551,591   \n",
              "\n",
              "               Artist Artist Followers                 Song ID  \\\n",
              "Index                                                            \n",
              "1            Måneskin          3377762  3Wrjm47oTz2sjIgck11l5e   \n",
              "2       The Kid LAROI          2230022  5HCyWlXZPP0y6Gqq8TgA20   \n",
              "3      Olivia Rodrigo          6266514  4ZtFanR9U6ndgddUvNcjcG   \n",
              "4          Ed Sheeran         83293380  6PQ88X9TkUIAUIZJHW2upE   \n",
              "5           Lil Nas X          5473565  27NovPIUIRrOZoCHxABJwK   \n",
              "6           Lil Nas X          5473565  67BtfxlNbhBmCDR2L2l8qd   \n",
              "7            Doja Cat          8640063  748mdHapucXQri7IAO8yFK   \n",
              "8      Rauw Alejandro          6080597  4fSIb4hdOQ151TILNsSEaF   \n",
              "9           Bad Bunny         36142273  2JPLbjOn0wPCngEot2STUS   \n",
              "10           Måneskin          3377762  4pt5fDVTg5GhEvEtlz9dKk   \n",
              "\n",
              "                                        Genre Release Date  ... Danceability  \\\n",
              "Index                                                       ...                \n",
              "1      ['indie rock italiano', 'italian pop']   2017-12-08  ...        0.714   \n",
              "2                      ['australian hip hop']   2021-07-09  ...        0.591   \n",
              "3                                     ['pop']   2021-05-21  ...        0.563   \n",
              "4                           ['pop', 'uk pop']   2021-06-25  ...        0.808   \n",
              "5               ['lgbtq+ hip hop', 'pop rap']   2021-07-23  ...        0.736   \n",
              "6               ['lgbtq+ hip hop', 'pop rap']   2021-03-31  ...         0.61   \n",
              "7                        ['dance pop', 'pop']   2021-04-09  ...        0.762   \n",
              "8         ['puerto rican pop', 'trap latino']   2021-05-20  ...         0.78   \n",
              "9       ['latin', 'reggaeton', 'trap latino']   2021-06-04  ...        0.644   \n",
              "10     ['indie rock italiano', 'italian pop']   2021-03-19  ...         0.75   \n",
              "\n",
              "      Energy Loudness Speechiness Acousticness Liveness    Tempo  \\\n",
              "Index                                                              \n",
              "1        0.8   -4.808      0.0504        0.127    0.359  134.002   \n",
              "2      0.764   -5.484      0.0483       0.0383    0.103  169.928   \n",
              "3      0.664   -5.044       0.154        0.335   0.0849  166.928   \n",
              "4      0.897   -3.712      0.0348       0.0469    0.364  126.026   \n",
              "5      0.704   -7.409      0.0615       0.0203   0.0501  149.995   \n",
              "6      0.508   -6.682       0.152        0.297    0.384  178.818   \n",
              "7      0.701   -3.541      0.0286        0.235    0.123  110.968   \n",
              "8      0.718   -3.605      0.0506         0.31   0.0932  127.949   \n",
              "9      0.648   -4.601       0.118        0.276    0.135  179.951   \n",
              "10     0.608   -4.008      0.0387      0.00165    0.178  132.507   \n",
              "\n",
              "      Duration (ms) Valence  Chord  \n",
              "Index                               \n",
              "1            211560   0.589      B  \n",
              "2            141806   0.478  C#/Db  \n",
              "3            178147   0.688      A  \n",
              "4            231041   0.591      B  \n",
              "5            212000   0.894  D#/Eb  \n",
              "6            137876   0.758  G#/Ab  \n",
              "7            208867   0.742  G#/Ab  \n",
              "8            199604   0.342  D#/Eb  \n",
              "9            206710    0.44  C#/Db  \n",
              "10           173347   0.958  C#/Db  \n",
              "\n",
              "[10 rows x 22 columns]"
            ],
            "text/html": [
              "\n",
              "  <div id=\"df-1cfc1e6e-c844-4081-83f2-2b843e100175\">\n",
              "    <div class=\"colab-df-container\">\n",
              "      <div>\n",
              "<style scoped>\n",
              "    .dataframe tbody tr th:only-of-type {\n",
              "        vertical-align: middle;\n",
              "    }\n",
              "\n",
              "    .dataframe tbody tr th {\n",
              "        vertical-align: top;\n",
              "    }\n",
              "\n",
              "    .dataframe thead th {\n",
              "        text-align: right;\n",
              "    }\n",
              "</style>\n",
              "<table border=\"1\" class=\"dataframe\">\n",
              "  <thead>\n",
              "    <tr style=\"text-align: right;\">\n",
              "      <th></th>\n",
              "      <th>Highest Charting Position</th>\n",
              "      <th>Number of Times Charted</th>\n",
              "      <th>Week of Highest Charting</th>\n",
              "      <th>Song Name</th>\n",
              "      <th>Streams</th>\n",
              "      <th>Artist</th>\n",
              "      <th>Artist Followers</th>\n",
              "      <th>Song ID</th>\n",
              "      <th>Genre</th>\n",
              "      <th>Release Date</th>\n",
              "      <th>...</th>\n",
              "      <th>Danceability</th>\n",
              "      <th>Energy</th>\n",
              "      <th>Loudness</th>\n",
              "      <th>Speechiness</th>\n",
              "      <th>Acousticness</th>\n",
              "      <th>Liveness</th>\n",
              "      <th>Tempo</th>\n",
              "      <th>Duration (ms)</th>\n",
              "      <th>Valence</th>\n",
              "      <th>Chord</th>\n",
              "    </tr>\n",
              "    <tr>\n",
              "      <th>Index</th>\n",
              "      <th></th>\n",
              "      <th></th>\n",
              "      <th></th>\n",
              "      <th></th>\n",
              "      <th></th>\n",
              "      <th></th>\n",
              "      <th></th>\n",
              "      <th></th>\n",
              "      <th></th>\n",
              "      <th></th>\n",
              "      <th></th>\n",
              "      <th></th>\n",
              "      <th></th>\n",
              "      <th></th>\n",
              "      <th></th>\n",
              "      <th></th>\n",
              "      <th></th>\n",
              "      <th></th>\n",
              "      <th></th>\n",
              "      <th></th>\n",
              "      <th></th>\n",
              "    </tr>\n",
              "  </thead>\n",
              "  <tbody>\n",
              "    <tr>\n",
              "      <th>1</th>\n",
              "      <td>1</td>\n",
              "      <td>8</td>\n",
              "      <td>2021-07-23--2021-07-30</td>\n",
              "      <td>Beggin'</td>\n",
              "      <td>48,633,449</td>\n",
              "      <td>Måneskin</td>\n",
              "      <td>3377762</td>\n",
              "      <td>3Wrjm47oTz2sjIgck11l5e</td>\n",
              "      <td>['indie rock italiano', 'italian pop']</td>\n",
              "      <td>2017-12-08</td>\n",
              "      <td>...</td>\n",
              "      <td>0.714</td>\n",
              "      <td>0.8</td>\n",
              "      <td>-4.808</td>\n",
              "      <td>0.0504</td>\n",
              "      <td>0.127</td>\n",
              "      <td>0.359</td>\n",
              "      <td>134.002</td>\n",
              "      <td>211560</td>\n",
              "      <td>0.589</td>\n",
              "      <td>B</td>\n",
              "    </tr>\n",
              "    <tr>\n",
              "      <th>2</th>\n",
              "      <td>2</td>\n",
              "      <td>3</td>\n",
              "      <td>2021-07-23--2021-07-30</td>\n",
              "      <td>STAY (with Justin Bieber)</td>\n",
              "      <td>47,248,719</td>\n",
              "      <td>The Kid LAROI</td>\n",
              "      <td>2230022</td>\n",
              "      <td>5HCyWlXZPP0y6Gqq8TgA20</td>\n",
              "      <td>['australian hip hop']</td>\n",
              "      <td>2021-07-09</td>\n",
              "      <td>...</td>\n",
              "      <td>0.591</td>\n",
              "      <td>0.764</td>\n",
              "      <td>-5.484</td>\n",
              "      <td>0.0483</td>\n",
              "      <td>0.0383</td>\n",
              "      <td>0.103</td>\n",
              "      <td>169.928</td>\n",
              "      <td>141806</td>\n",
              "      <td>0.478</td>\n",
              "      <td>C#/Db</td>\n",
              "    </tr>\n",
              "    <tr>\n",
              "      <th>3</th>\n",
              "      <td>1</td>\n",
              "      <td>11</td>\n",
              "      <td>2021-06-25--2021-07-02</td>\n",
              "      <td>good 4 u</td>\n",
              "      <td>40,162,559</td>\n",
              "      <td>Olivia Rodrigo</td>\n",
              "      <td>6266514</td>\n",
              "      <td>4ZtFanR9U6ndgddUvNcjcG</td>\n",
              "      <td>['pop']</td>\n",
              "      <td>2021-05-21</td>\n",
              "      <td>...</td>\n",
              "      <td>0.563</td>\n",
              "      <td>0.664</td>\n",
              "      <td>-5.044</td>\n",
              "      <td>0.154</td>\n",
              "      <td>0.335</td>\n",
              "      <td>0.0849</td>\n",
              "      <td>166.928</td>\n",
              "      <td>178147</td>\n",
              "      <td>0.688</td>\n",
              "      <td>A</td>\n",
              "    </tr>\n",
              "    <tr>\n",
              "      <th>4</th>\n",
              "      <td>3</td>\n",
              "      <td>5</td>\n",
              "      <td>2021-07-02--2021-07-09</td>\n",
              "      <td>Bad Habits</td>\n",
              "      <td>37,799,456</td>\n",
              "      <td>Ed Sheeran</td>\n",
              "      <td>83293380</td>\n",
              "      <td>6PQ88X9TkUIAUIZJHW2upE</td>\n",
              "      <td>['pop', 'uk pop']</td>\n",
              "      <td>2021-06-25</td>\n",
              "      <td>...</td>\n",
              "      <td>0.808</td>\n",
              "      <td>0.897</td>\n",
              "      <td>-3.712</td>\n",
              "      <td>0.0348</td>\n",
              "      <td>0.0469</td>\n",
              "      <td>0.364</td>\n",
              "      <td>126.026</td>\n",
              "      <td>231041</td>\n",
              "      <td>0.591</td>\n",
              "      <td>B</td>\n",
              "    </tr>\n",
              "    <tr>\n",
              "      <th>5</th>\n",
              "      <td>5</td>\n",
              "      <td>1</td>\n",
              "      <td>2021-07-23--2021-07-30</td>\n",
              "      <td>INDUSTRY BABY (feat. Jack Harlow)</td>\n",
              "      <td>33,948,454</td>\n",
              "      <td>Lil Nas X</td>\n",
              "      <td>5473565</td>\n",
              "      <td>27NovPIUIRrOZoCHxABJwK</td>\n",
              "      <td>['lgbtq+ hip hop', 'pop rap']</td>\n",
              "      <td>2021-07-23</td>\n",
              "      <td>...</td>\n",
              "      <td>0.736</td>\n",
              "      <td>0.704</td>\n",
              "      <td>-7.409</td>\n",
              "      <td>0.0615</td>\n",
              "      <td>0.0203</td>\n",
              "      <td>0.0501</td>\n",
              "      <td>149.995</td>\n",
              "      <td>212000</td>\n",
              "      <td>0.894</td>\n",
              "      <td>D#/Eb</td>\n",
              "    </tr>\n",
              "    <tr>\n",
              "      <th>6</th>\n",
              "      <td>1</td>\n",
              "      <td>18</td>\n",
              "      <td>2021-05-07--2021-05-14</td>\n",
              "      <td>MONTERO (Call Me By Your Name)</td>\n",
              "      <td>30,071,134</td>\n",
              "      <td>Lil Nas X</td>\n",
              "      <td>5473565</td>\n",
              "      <td>67BtfxlNbhBmCDR2L2l8qd</td>\n",
              "      <td>['lgbtq+ hip hop', 'pop rap']</td>\n",
              "      <td>2021-03-31</td>\n",
              "      <td>...</td>\n",
              "      <td>0.61</td>\n",
              "      <td>0.508</td>\n",
              "      <td>-6.682</td>\n",
              "      <td>0.152</td>\n",
              "      <td>0.297</td>\n",
              "      <td>0.384</td>\n",
              "      <td>178.818</td>\n",
              "      <td>137876</td>\n",
              "      <td>0.758</td>\n",
              "      <td>G#/Ab</td>\n",
              "    </tr>\n",
              "    <tr>\n",
              "      <th>7</th>\n",
              "      <td>3</td>\n",
              "      <td>16</td>\n",
              "      <td>2021-05-14--2021-05-21</td>\n",
              "      <td>Kiss Me More (feat. SZA)</td>\n",
              "      <td>29,356,736</td>\n",
              "      <td>Doja Cat</td>\n",
              "      <td>8640063</td>\n",
              "      <td>748mdHapucXQri7IAO8yFK</td>\n",
              "      <td>['dance pop', 'pop']</td>\n",
              "      <td>2021-04-09</td>\n",
              "      <td>...</td>\n",
              "      <td>0.762</td>\n",
              "      <td>0.701</td>\n",
              "      <td>-3.541</td>\n",
              "      <td>0.0286</td>\n",
              "      <td>0.235</td>\n",
              "      <td>0.123</td>\n",
              "      <td>110.968</td>\n",
              "      <td>208867</td>\n",
              "      <td>0.742</td>\n",
              "      <td>G#/Ab</td>\n",
              "    </tr>\n",
              "    <tr>\n",
              "      <th>8</th>\n",
              "      <td>2</td>\n",
              "      <td>10</td>\n",
              "      <td>2021-06-18--2021-06-25</td>\n",
              "      <td>Todo De Ti</td>\n",
              "      <td>26,951,613</td>\n",
              "      <td>Rauw Alejandro</td>\n",
              "      <td>6080597</td>\n",
              "      <td>4fSIb4hdOQ151TILNsSEaF</td>\n",
              "      <td>['puerto rican pop', 'trap latino']</td>\n",
              "      <td>2021-05-20</td>\n",
              "      <td>...</td>\n",
              "      <td>0.78</td>\n",
              "      <td>0.718</td>\n",
              "      <td>-3.605</td>\n",
              "      <td>0.0506</td>\n",
              "      <td>0.31</td>\n",
              "      <td>0.0932</td>\n",
              "      <td>127.949</td>\n",
              "      <td>199604</td>\n",
              "      <td>0.342</td>\n",
              "      <td>D#/Eb</td>\n",
              "    </tr>\n",
              "    <tr>\n",
              "      <th>9</th>\n",
              "      <td>3</td>\n",
              "      <td>8</td>\n",
              "      <td>2021-06-18--2021-06-25</td>\n",
              "      <td>Yonaguni</td>\n",
              "      <td>25,030,128</td>\n",
              "      <td>Bad Bunny</td>\n",
              "      <td>36142273</td>\n",
              "      <td>2JPLbjOn0wPCngEot2STUS</td>\n",
              "      <td>['latin', 'reggaeton', 'trap latino']</td>\n",
              "      <td>2021-06-04</td>\n",
              "      <td>...</td>\n",
              "      <td>0.644</td>\n",
              "      <td>0.648</td>\n",
              "      <td>-4.601</td>\n",
              "      <td>0.118</td>\n",
              "      <td>0.276</td>\n",
              "      <td>0.135</td>\n",
              "      <td>179.951</td>\n",
              "      <td>206710</td>\n",
              "      <td>0.44</td>\n",
              "      <td>C#/Db</td>\n",
              "    </tr>\n",
              "    <tr>\n",
              "      <th>10</th>\n",
              "      <td>8</td>\n",
              "      <td>10</td>\n",
              "      <td>2021-07-02--2021-07-09</td>\n",
              "      <td>I WANNA BE YOUR SLAVE</td>\n",
              "      <td>24,551,591</td>\n",
              "      <td>Måneskin</td>\n",
              "      <td>3377762</td>\n",
              "      <td>4pt5fDVTg5GhEvEtlz9dKk</td>\n",
              "      <td>['indie rock italiano', 'italian pop']</td>\n",
              "      <td>2021-03-19</td>\n",
              "      <td>...</td>\n",
              "      <td>0.75</td>\n",
              "      <td>0.608</td>\n",
              "      <td>-4.008</td>\n",
              "      <td>0.0387</td>\n",
              "      <td>0.00165</td>\n",
              "      <td>0.178</td>\n",
              "      <td>132.507</td>\n",
              "      <td>173347</td>\n",
              "      <td>0.958</td>\n",
              "      <td>C#/Db</td>\n",
              "    </tr>\n",
              "  </tbody>\n",
              "</table>\n",
              "<p>10 rows × 22 columns</p>\n",
              "</div>\n",
              "      <button class=\"colab-df-convert\" onclick=\"convertToInteractive('df-1cfc1e6e-c844-4081-83f2-2b843e100175')\"\n",
              "              title=\"Convert this dataframe to an interactive table.\"\n",
              "              style=\"display:none;\">\n",
              "        \n",
              "  <svg xmlns=\"http://www.w3.org/2000/svg\" height=\"24px\"viewBox=\"0 0 24 24\"\n",
              "       width=\"24px\">\n",
              "    <path d=\"M0 0h24v24H0V0z\" fill=\"none\"/>\n",
              "    <path d=\"M18.56 5.44l.94 2.06.94-2.06 2.06-.94-2.06-.94-.94-2.06-.94 2.06-2.06.94zm-11 1L8.5 8.5l.94-2.06 2.06-.94-2.06-.94L8.5 2.5l-.94 2.06-2.06.94zm10 10l.94 2.06.94-2.06 2.06-.94-2.06-.94-.94-2.06-.94 2.06-2.06.94z\"/><path d=\"M17.41 7.96l-1.37-1.37c-.4-.4-.92-.59-1.43-.59-.52 0-1.04.2-1.43.59L10.3 9.45l-7.72 7.72c-.78.78-.78 2.05 0 2.83L4 21.41c.39.39.9.59 1.41.59.51 0 1.02-.2 1.41-.59l7.78-7.78 2.81-2.81c.8-.78.8-2.07 0-2.86zM5.41 20L4 18.59l7.72-7.72 1.47 1.35L5.41 20z\"/>\n",
              "  </svg>\n",
              "      </button>\n",
              "      \n",
              "  <style>\n",
              "    .colab-df-container {\n",
              "      display:flex;\n",
              "      flex-wrap:wrap;\n",
              "      gap: 12px;\n",
              "    }\n",
              "\n",
              "    .colab-df-convert {\n",
              "      background-color: #E8F0FE;\n",
              "      border: none;\n",
              "      border-radius: 50%;\n",
              "      cursor: pointer;\n",
              "      display: none;\n",
              "      fill: #1967D2;\n",
              "      height: 32px;\n",
              "      padding: 0 0 0 0;\n",
              "      width: 32px;\n",
              "    }\n",
              "\n",
              "    .colab-df-convert:hover {\n",
              "      background-color: #E2EBFA;\n",
              "      box-shadow: 0px 1px 2px rgba(60, 64, 67, 0.3), 0px 1px 3px 1px rgba(60, 64, 67, 0.15);\n",
              "      fill: #174EA6;\n",
              "    }\n",
              "\n",
              "    [theme=dark] .colab-df-convert {\n",
              "      background-color: #3B4455;\n",
              "      fill: #D2E3FC;\n",
              "    }\n",
              "\n",
              "    [theme=dark] .colab-df-convert:hover {\n",
              "      background-color: #434B5C;\n",
              "      box-shadow: 0px 1px 3px 1px rgba(0, 0, 0, 0.15);\n",
              "      filter: drop-shadow(0px 1px 2px rgba(0, 0, 0, 0.3));\n",
              "      fill: #FFFFFF;\n",
              "    }\n",
              "  </style>\n",
              "\n",
              "      <script>\n",
              "        const buttonEl =\n",
              "          document.querySelector('#df-1cfc1e6e-c844-4081-83f2-2b843e100175 button.colab-df-convert');\n",
              "        buttonEl.style.display =\n",
              "          google.colab.kernel.accessAllowed ? 'block' : 'none';\n",
              "\n",
              "        async function convertToInteractive(key) {\n",
              "          const element = document.querySelector('#df-1cfc1e6e-c844-4081-83f2-2b843e100175');\n",
              "          const dataTable =\n",
              "            await google.colab.kernel.invokeFunction('convertToInteractive',\n",
              "                                                     [key], {});\n",
              "          if (!dataTable) return;\n",
              "\n",
              "          const docLinkHtml = 'Like what you see? Visit the ' +\n",
              "            '<a target=\"_blank\" href=https://colab.research.google.com/notebooks/data_table.ipynb>data table notebook</a>'\n",
              "            + ' to learn more about interactive tables.';\n",
              "          element.innerHTML = '';\n",
              "          dataTable['output_type'] = 'display_data';\n",
              "          await google.colab.output.renderOutput(dataTable, element);\n",
              "          const docLink = document.createElement('div');\n",
              "          docLink.innerHTML = docLinkHtml;\n",
              "          element.appendChild(docLink);\n",
              "        }\n",
              "      </script>\n",
              "    </div>\n",
              "  </div>\n",
              "  "
            ]
          },
          "metadata": {},
          "execution_count": 311
        }
      ]
    },
    {
      "cell_type": "markdown",
      "metadata": {
        "id": "a1rWxN-i-SqD"
      },
      "source": [
        "Di seguito possiamo vedere i dati del nostro DataFrame, il tipo delle features, gli eventuali valori nulli e lo spazio di occupazione in memoria"
      ]
    },
    {
      "cell_type": "code",
      "execution_count": 312,
      "metadata": {
        "colab": {
          "base_uri": "https://localhost:8080/"
        },
        "id": "Qvznx_TKi0Uv",
        "outputId": "d132476b-c34b-4a1e-af27-552dd996689e"
      },
      "outputs": [
        {
          "output_type": "stream",
          "name": "stdout",
          "text": [
            "<class 'pandas.core.frame.DataFrame'>\n",
            "Int64Index: 1556 entries, 1 to 1556\n",
            "Data columns (total 22 columns):\n",
            " #   Column                     Non-Null Count  Dtype \n",
            "---  ------                     --------------  ----- \n",
            " 0   Highest Charting Position  1556 non-null   int64 \n",
            " 1   Number of Times Charted    1556 non-null   int64 \n",
            " 2   Week of Highest Charting   1556 non-null   object\n",
            " 3   Song Name                  1556 non-null   object\n",
            " 4   Streams                    1556 non-null   object\n",
            " 5   Artist                     1556 non-null   object\n",
            " 6   Artist Followers           1556 non-null   object\n",
            " 7   Song ID                    1556 non-null   object\n",
            " 8   Genre                      1556 non-null   object\n",
            " 9   Release Date               1556 non-null   object\n",
            " 10  Weeks Charted              1556 non-null   object\n",
            " 11  Popularity                 1556 non-null   object\n",
            " 12  Danceability               1556 non-null   object\n",
            " 13  Energy                     1556 non-null   object\n",
            " 14  Loudness                   1556 non-null   object\n",
            " 15  Speechiness                1556 non-null   object\n",
            " 16  Acousticness               1556 non-null   object\n",
            " 17  Liveness                   1556 non-null   object\n",
            " 18  Tempo                      1556 non-null   object\n",
            " 19  Duration (ms)              1556 non-null   object\n",
            " 20  Valence                    1556 non-null   object\n",
            " 21  Chord                      1556 non-null   object\n",
            "dtypes: int64(2), object(20)\n",
            "memory usage: 2.4 MB\n"
          ]
        }
      ],
      "source": [
        "spotify_raw_data.info(memory_usage=\"deep\")"
      ]
    },
    {
      "cell_type": "markdown",
      "metadata": {
        "id": "tbgxSLZTMH9N"
      },
      "source": [
        "#Normalizzazione\n",
        "\n",
        "1.   **Pulizia del Dataset:** Scelgo di fare una fase preliminare di pulizia del mio DataSet per rendere i dati più utilizzabili e comprensibili in modo da farne poi un analisi sui dati molto più approfondita.\n",
        "Procedo a pulire tuple vuote e features non utili.\n",
        "\n",
        "2.   **Standardizzazione**: cerco di discretizzare tutte le mie variabili. Farò sicuramente un cambiamento alle features Artist e Genre\n",
        "\n",
        "\n",
        "\n"
      ]
    },
    {
      "cell_type": "markdown",
      "metadata": {
        "id": "p9PEow3K8UpS"
      },
      "source": [
        "## Pulizia del DataSet\n"
      ]
    },
    {
      "cell_type": "code",
      "execution_count": 313,
      "metadata": {
        "id": "jE2qZZ2oBSeN"
      },
      "outputs": [],
      "source": [
        "#Ho notato purtroppo che sono presenti tuple con campi contenenti solo stringe vuote, quindi procedo a pulirle traformandole in NaN per poi eliminarle\n",
        "spotify_raw_data.replace(' ', np.nan, inplace=True)\n",
        "spotify_raw_data.dropna(inplace=True)"
      ]
    },
    {
      "cell_type": "code",
      "execution_count": 314,
      "metadata": {
        "colab": {
          "base_uri": "https://localhost:8080/"
        },
        "id": "YfrKtGqvHVGX",
        "outputId": "22e466bd-3f70-44e1-8457-e75c374eaa3c"
      },
      "outputs": [
        {
          "output_type": "execute_result",
          "data": {
            "text/plain": [
              "Highest Charting Position    0\n",
              "Number of Times Charted      0\n",
              "Week of Highest Charting     0\n",
              "Song Name                    0\n",
              "Streams                      0\n",
              "Artist                       0\n",
              "Artist Followers             0\n",
              "Song ID                      0\n",
              "Genre                        0\n",
              "Release Date                 0\n",
              "Weeks Charted                0\n",
              "Popularity                   0\n",
              "Danceability                 0\n",
              "Energy                       0\n",
              "Loudness                     0\n",
              "Speechiness                  0\n",
              "Acousticness                 0\n",
              "Liveness                     0\n",
              "Tempo                        0\n",
              "Duration (ms)                0\n",
              "Valence                      0\n",
              "Chord                        0\n",
              "dtype: int64"
            ]
          },
          "metadata": {},
          "execution_count": 314
        }
      ],
      "source": [
        "#Piccolo controllo per accettarsi che io abbia effettivamente pulito le tuple a NaN\n",
        "spotify_raw_data.isna().sum()"
      ]
    },
    {
      "cell_type": "code",
      "execution_count": 315,
      "metadata": {
        "colab": {
          "base_uri": "https://localhost:8080/"
        },
        "id": "BN-h6ssQADuB",
        "outputId": "b20c56ec-db36-47cc-c1ca-73c76aff8a58"
      },
      "outputs": [
        {
          "output_type": "stream",
          "name": "stdout",
          "text": [
            "<class 'pandas.core.frame.DataFrame'>\n",
            "Int64Index: 1545 entries, 1 to 1556\n",
            "Data columns (total 22 columns):\n",
            " #   Column                     Non-Null Count  Dtype \n",
            "---  ------                     --------------  ----- \n",
            " 0   Highest Charting Position  1545 non-null   int64 \n",
            " 1   Number of Times Charted    1545 non-null   int64 \n",
            " 2   Week of Highest Charting   1545 non-null   object\n",
            " 3   Song Name                  1545 non-null   object\n",
            " 4   Streams                    1545 non-null   object\n",
            " 5   Artist                     1545 non-null   object\n",
            " 6   Artist Followers           1545 non-null   object\n",
            " 7   Song ID                    1545 non-null   object\n",
            " 8   Genre                      1545 non-null   object\n",
            " 9   Release Date               1545 non-null   object\n",
            " 10  Weeks Charted              1545 non-null   object\n",
            " 11  Popularity                 1545 non-null   object\n",
            " 12  Danceability               1545 non-null   object\n",
            " 13  Energy                     1545 non-null   object\n",
            " 14  Loudness                   1545 non-null   object\n",
            " 15  Speechiness                1545 non-null   object\n",
            " 16  Acousticness               1545 non-null   object\n",
            " 17  Liveness                   1545 non-null   object\n",
            " 18  Tempo                      1545 non-null   object\n",
            " 19  Duration (ms)              1545 non-null   object\n",
            " 20  Valence                    1545 non-null   object\n",
            " 21  Chord                      1545 non-null   object\n",
            "dtypes: int64(2), object(20)\n",
            "memory usage: 2.4 MB\n"
          ]
        }
      ],
      "source": [
        "spotify_raw_data.info(memory_usage=\"deep\")"
      ]
    },
    {
      "cell_type": "markdown",
      "source": [
        "Creo la mia feature **`Top100Chart`** che vado a popolare con *True* se ha raggiunto una posizione in classifica minore o uguale a 100, con *False* altrimenti.\n",
        "\n"
      ],
      "metadata": {
        "id": "03bFBaQPK4Mi"
      }
    },
    {
      "cell_type": "code",
      "execution_count": 316,
      "metadata": {
        "id": "Qo3wBOQZwMAU"
      },
      "outputs": [],
      "source": [
        "top_chart= [x<=100 for x in spotify_raw_data[\"Highest Charting Position\"]]\n",
        "spotify_raw_data[\"Top100Chart\"]=top_chart"
      ]
    },
    {
      "cell_type": "markdown",
      "source": [
        "Pulizia delle Features che non mi sono utili o di intralcio rimuovo le features che dipendono esclusivamente dal tempo di uscita della canzone poichè andrebbero a sporcare il mio training, in quanto sono dati che dipendono dalla maturazione della canzone sulla piattaforma di ascolto nel tempo, cosa che non ha una canzone nuova; non posso comparare ad esempio gli Streams di una canzone uscita da 2 mesi ad una che appena uscita dove le Streams saranno sicuramente 0\n",
        "\n",
        "FEATURES RIMOSSE: \n",
        "* Song ID: non è utile al training\n",
        "* Weeks Charted: sarebbe = a 0 in una canzone nuova\n",
        "* Week of Highest Charting: sarebbe = a 0 in una canzone nuova\n",
        "* Number of Times Charted:\n",
        "* Release Date: \n",
        "* Streams:\n",
        "*Highest Charting Position"
      ],
      "metadata": {
        "id": "BVEY1cnN81LG"
      }
    },
    {
      "cell_type": "code",
      "execution_count": 317,
      "metadata": {
        "id": "4EIeVAEwAF5A"
      },
      "outputs": [],
      "source": [
        "spotify_clean_data=spotify_raw_data.drop([\"Song ID\",\"Weeks Charted\",\"Week of Highest Charting\",\"Number of Times Charted\",\"Release Date\",\"Streams\",\"Highest Charting Position\",\"Popularity\"], axis=1)"
      ]
    },
    {
      "cell_type": "code",
      "source": [
        "#Rinomino la Feature \"Duration (ms)\" in \"Duration\" in modo da essere più utilizzabile ed esteticamente più simile alle altre features\n",
        "spotify_clean_data.rename(columns={\"Duration (ms)\" : \"Duration\"}, inplace=True);"
      ],
      "metadata": {
        "id": "nJHUfQmKhF_w"
      },
      "execution_count": 318,
      "outputs": []
    },
    {
      "cell_type": "code",
      "execution_count": 319,
      "metadata": {
        "colab": {
          "base_uri": "https://localhost:8080/",
          "height": 238
        },
        "id": "JtXUT_0zjZiE",
        "outputId": "46a522c3-2a43-4656-bfb2-4fb7e4ea6dc4"
      },
      "outputs": [
        {
          "output_type": "execute_result",
          "data": {
            "text/plain": [
              "                               Song Name          Artist Artist Followers  \\\n",
              "Index                                                                       \n",
              "1                                Beggin'        Måneskin          3377762   \n",
              "2              STAY (with Justin Bieber)   The Kid LAROI          2230022   \n",
              "3                               good 4 u  Olivia Rodrigo          6266514   \n",
              "4                             Bad Habits      Ed Sheeran         83293380   \n",
              "5      INDUSTRY BABY (feat. Jack Harlow)       Lil Nas X          5473565   \n",
              "\n",
              "                                        Genre Danceability Energy Loudness  \\\n",
              "Index                                                                        \n",
              "1      ['indie rock italiano', 'italian pop']        0.714    0.8   -4.808   \n",
              "2                      ['australian hip hop']        0.591  0.764   -5.484   \n",
              "3                                     ['pop']        0.563  0.664   -5.044   \n",
              "4                           ['pop', 'uk pop']        0.808  0.897   -3.712   \n",
              "5               ['lgbtq+ hip hop', 'pop rap']        0.736  0.704   -7.409   \n",
              "\n",
              "      Speechiness Acousticness Liveness    Tempo Duration Valence  Chord  \\\n",
              "Index                                                                      \n",
              "1          0.0504        0.127    0.359  134.002   211560   0.589      B   \n",
              "2          0.0483       0.0383    0.103  169.928   141806   0.478  C#/Db   \n",
              "3           0.154        0.335   0.0849  166.928   178147   0.688      A   \n",
              "4          0.0348       0.0469    0.364  126.026   231041   0.591      B   \n",
              "5          0.0615       0.0203   0.0501  149.995   212000   0.894  D#/Eb   \n",
              "\n",
              "       Top100Chart  \n",
              "Index               \n",
              "1             True  \n",
              "2             True  \n",
              "3             True  \n",
              "4             True  \n",
              "5             True  "
            ],
            "text/html": [
              "\n",
              "  <div id=\"df-748106e5-fe8d-44a3-8c56-a7d4a06960da\">\n",
              "    <div class=\"colab-df-container\">\n",
              "      <div>\n",
              "<style scoped>\n",
              "    .dataframe tbody tr th:only-of-type {\n",
              "        vertical-align: middle;\n",
              "    }\n",
              "\n",
              "    .dataframe tbody tr th {\n",
              "        vertical-align: top;\n",
              "    }\n",
              "\n",
              "    .dataframe thead th {\n",
              "        text-align: right;\n",
              "    }\n",
              "</style>\n",
              "<table border=\"1\" class=\"dataframe\">\n",
              "  <thead>\n",
              "    <tr style=\"text-align: right;\">\n",
              "      <th></th>\n",
              "      <th>Song Name</th>\n",
              "      <th>Artist</th>\n",
              "      <th>Artist Followers</th>\n",
              "      <th>Genre</th>\n",
              "      <th>Danceability</th>\n",
              "      <th>Energy</th>\n",
              "      <th>Loudness</th>\n",
              "      <th>Speechiness</th>\n",
              "      <th>Acousticness</th>\n",
              "      <th>Liveness</th>\n",
              "      <th>Tempo</th>\n",
              "      <th>Duration</th>\n",
              "      <th>Valence</th>\n",
              "      <th>Chord</th>\n",
              "      <th>Top100Chart</th>\n",
              "    </tr>\n",
              "    <tr>\n",
              "      <th>Index</th>\n",
              "      <th></th>\n",
              "      <th></th>\n",
              "      <th></th>\n",
              "      <th></th>\n",
              "      <th></th>\n",
              "      <th></th>\n",
              "      <th></th>\n",
              "      <th></th>\n",
              "      <th></th>\n",
              "      <th></th>\n",
              "      <th></th>\n",
              "      <th></th>\n",
              "      <th></th>\n",
              "      <th></th>\n",
              "      <th></th>\n",
              "    </tr>\n",
              "  </thead>\n",
              "  <tbody>\n",
              "    <tr>\n",
              "      <th>1</th>\n",
              "      <td>Beggin'</td>\n",
              "      <td>Måneskin</td>\n",
              "      <td>3377762</td>\n",
              "      <td>['indie rock italiano', 'italian pop']</td>\n",
              "      <td>0.714</td>\n",
              "      <td>0.8</td>\n",
              "      <td>-4.808</td>\n",
              "      <td>0.0504</td>\n",
              "      <td>0.127</td>\n",
              "      <td>0.359</td>\n",
              "      <td>134.002</td>\n",
              "      <td>211560</td>\n",
              "      <td>0.589</td>\n",
              "      <td>B</td>\n",
              "      <td>True</td>\n",
              "    </tr>\n",
              "    <tr>\n",
              "      <th>2</th>\n",
              "      <td>STAY (with Justin Bieber)</td>\n",
              "      <td>The Kid LAROI</td>\n",
              "      <td>2230022</td>\n",
              "      <td>['australian hip hop']</td>\n",
              "      <td>0.591</td>\n",
              "      <td>0.764</td>\n",
              "      <td>-5.484</td>\n",
              "      <td>0.0483</td>\n",
              "      <td>0.0383</td>\n",
              "      <td>0.103</td>\n",
              "      <td>169.928</td>\n",
              "      <td>141806</td>\n",
              "      <td>0.478</td>\n",
              "      <td>C#/Db</td>\n",
              "      <td>True</td>\n",
              "    </tr>\n",
              "    <tr>\n",
              "      <th>3</th>\n",
              "      <td>good 4 u</td>\n",
              "      <td>Olivia Rodrigo</td>\n",
              "      <td>6266514</td>\n",
              "      <td>['pop']</td>\n",
              "      <td>0.563</td>\n",
              "      <td>0.664</td>\n",
              "      <td>-5.044</td>\n",
              "      <td>0.154</td>\n",
              "      <td>0.335</td>\n",
              "      <td>0.0849</td>\n",
              "      <td>166.928</td>\n",
              "      <td>178147</td>\n",
              "      <td>0.688</td>\n",
              "      <td>A</td>\n",
              "      <td>True</td>\n",
              "    </tr>\n",
              "    <tr>\n",
              "      <th>4</th>\n",
              "      <td>Bad Habits</td>\n",
              "      <td>Ed Sheeran</td>\n",
              "      <td>83293380</td>\n",
              "      <td>['pop', 'uk pop']</td>\n",
              "      <td>0.808</td>\n",
              "      <td>0.897</td>\n",
              "      <td>-3.712</td>\n",
              "      <td>0.0348</td>\n",
              "      <td>0.0469</td>\n",
              "      <td>0.364</td>\n",
              "      <td>126.026</td>\n",
              "      <td>231041</td>\n",
              "      <td>0.591</td>\n",
              "      <td>B</td>\n",
              "      <td>True</td>\n",
              "    </tr>\n",
              "    <tr>\n",
              "      <th>5</th>\n",
              "      <td>INDUSTRY BABY (feat. Jack Harlow)</td>\n",
              "      <td>Lil Nas X</td>\n",
              "      <td>5473565</td>\n",
              "      <td>['lgbtq+ hip hop', 'pop rap']</td>\n",
              "      <td>0.736</td>\n",
              "      <td>0.704</td>\n",
              "      <td>-7.409</td>\n",
              "      <td>0.0615</td>\n",
              "      <td>0.0203</td>\n",
              "      <td>0.0501</td>\n",
              "      <td>149.995</td>\n",
              "      <td>212000</td>\n",
              "      <td>0.894</td>\n",
              "      <td>D#/Eb</td>\n",
              "      <td>True</td>\n",
              "    </tr>\n",
              "  </tbody>\n",
              "</table>\n",
              "</div>\n",
              "      <button class=\"colab-df-convert\" onclick=\"convertToInteractive('df-748106e5-fe8d-44a3-8c56-a7d4a06960da')\"\n",
              "              title=\"Convert this dataframe to an interactive table.\"\n",
              "              style=\"display:none;\">\n",
              "        \n",
              "  <svg xmlns=\"http://www.w3.org/2000/svg\" height=\"24px\"viewBox=\"0 0 24 24\"\n",
              "       width=\"24px\">\n",
              "    <path d=\"M0 0h24v24H0V0z\" fill=\"none\"/>\n",
              "    <path d=\"M18.56 5.44l.94 2.06.94-2.06 2.06-.94-2.06-.94-.94-2.06-.94 2.06-2.06.94zm-11 1L8.5 8.5l.94-2.06 2.06-.94-2.06-.94L8.5 2.5l-.94 2.06-2.06.94zm10 10l.94 2.06.94-2.06 2.06-.94-2.06-.94-.94-2.06-.94 2.06-2.06.94z\"/><path d=\"M17.41 7.96l-1.37-1.37c-.4-.4-.92-.59-1.43-.59-.52 0-1.04.2-1.43.59L10.3 9.45l-7.72 7.72c-.78.78-.78 2.05 0 2.83L4 21.41c.39.39.9.59 1.41.59.51 0 1.02-.2 1.41-.59l7.78-7.78 2.81-2.81c.8-.78.8-2.07 0-2.86zM5.41 20L4 18.59l7.72-7.72 1.47 1.35L5.41 20z\"/>\n",
              "  </svg>\n",
              "      </button>\n",
              "      \n",
              "  <style>\n",
              "    .colab-df-container {\n",
              "      display:flex;\n",
              "      flex-wrap:wrap;\n",
              "      gap: 12px;\n",
              "    }\n",
              "\n",
              "    .colab-df-convert {\n",
              "      background-color: #E8F0FE;\n",
              "      border: none;\n",
              "      border-radius: 50%;\n",
              "      cursor: pointer;\n",
              "      display: none;\n",
              "      fill: #1967D2;\n",
              "      height: 32px;\n",
              "      padding: 0 0 0 0;\n",
              "      width: 32px;\n",
              "    }\n",
              "\n",
              "    .colab-df-convert:hover {\n",
              "      background-color: #E2EBFA;\n",
              "      box-shadow: 0px 1px 2px rgba(60, 64, 67, 0.3), 0px 1px 3px 1px rgba(60, 64, 67, 0.15);\n",
              "      fill: #174EA6;\n",
              "    }\n",
              "\n",
              "    [theme=dark] .colab-df-convert {\n",
              "      background-color: #3B4455;\n",
              "      fill: #D2E3FC;\n",
              "    }\n",
              "\n",
              "    [theme=dark] .colab-df-convert:hover {\n",
              "      background-color: #434B5C;\n",
              "      box-shadow: 0px 1px 3px 1px rgba(0, 0, 0, 0.15);\n",
              "      filter: drop-shadow(0px 1px 2px rgba(0, 0, 0, 0.3));\n",
              "      fill: #FFFFFF;\n",
              "    }\n",
              "  </style>\n",
              "\n",
              "      <script>\n",
              "        const buttonEl =\n",
              "          document.querySelector('#df-748106e5-fe8d-44a3-8c56-a7d4a06960da button.colab-df-convert');\n",
              "        buttonEl.style.display =\n",
              "          google.colab.kernel.accessAllowed ? 'block' : 'none';\n",
              "\n",
              "        async function convertToInteractive(key) {\n",
              "          const element = document.querySelector('#df-748106e5-fe8d-44a3-8c56-a7d4a06960da');\n",
              "          const dataTable =\n",
              "            await google.colab.kernel.invokeFunction('convertToInteractive',\n",
              "                                                     [key], {});\n",
              "          if (!dataTable) return;\n",
              "\n",
              "          const docLinkHtml = 'Like what you see? Visit the ' +\n",
              "            '<a target=\"_blank\" href=https://colab.research.google.com/notebooks/data_table.ipynb>data table notebook</a>'\n",
              "            + ' to learn more about interactive tables.';\n",
              "          element.innerHTML = '';\n",
              "          dataTable['output_type'] = 'display_data';\n",
              "          await google.colab.output.renderOutput(dataTable, element);\n",
              "          const docLink = document.createElement('div');\n",
              "          docLink.innerHTML = docLinkHtml;\n",
              "          element.appendChild(docLink);\n",
              "        }\n",
              "      </script>\n",
              "    </div>\n",
              "  </div>\n",
              "  "
            ]
          },
          "metadata": {},
          "execution_count": 319
        }
      ],
      "source": [
        "spotify_clean_data.head()"
      ]
    },
    {
      "cell_type": "markdown",
      "source": [
        "Significato delle features \n",
        "\n",
        "\n",
        "*   **`Artist Followers`** : n° di followers che l'artista ha su Spotify\n",
        "*   **`Energy`** : valore da 0 a 1, rappresenta una misura percettiva di intensità e attività. Una canzone con un valore di Energy prossimo ad 1, è veloce, rumorosa e con un volume alto. \n",
        "*   **`Loudness`** : il volume complessivo di una traccia in decibel. I valori vengono calcolati in media sull'intera traccia e vanno da -60 a 0 db.\n",
        "*   **`Speechiness`** : valore da 0 a 1. Si basa sulla presenza di parole nella traccia; più la registrazione è esclusivamente vocale più il valore si avvicina ad 1.\n",
        "*   **`Acousticness`** : valore da 0 a 1. Indica quanto la traccia è acustica; più elementi acustici sono presenti invece di elementi elettronici più il valore si avvicina a 1.\n",
        "*   **`Danceability`** : valore da 0 a 1. Descrive quanto sia adatta la base della canzone per essere ballata.\n",
        "*   **`Liveness`** : valore da 0 a 1. Rileva la presenza di un pubblico nella registrazione. Valori di liveness più alti rappresentano una maggiore probabilità che la traccia sia stata eseguita dal vivo.\n",
        "*   **`Tempo`** : rappresenta il ritmo complessivo stimato di una traccia musicale in battiti al minuto (BPM).\n",
        "*   **`Duration`** : rappresenta la durata del brano in millisecondi\n",
        "*   **`Valence`** : valore da 0 a 1. Descrive la positività musicale trasmessa da un brano. Un brano con Valence alta è più positivo (ad es. è felice, allegro, euforico) mentre quelli con Valence più bassa sono più negativi (ad es. tristi, depressi)\n",
        "*   **`Chord`** : l'accordo principale della canzone\n",
        "*   **`Top100Chart`** : valore True o False. Se il brano è salito in classifica nelle prime 100 posizioni\n",
        "\n"
      ],
      "metadata": {
        "id": "2thiI43TMYmA"
      }
    },
    {
      "cell_type": "markdown",
      "metadata": {
        "id": "_dnxFsFqD1vc"
      },
      "source": [
        "##Standardizzazione"
      ]
    },
    {
      "cell_type": "code",
      "execution_count": 320,
      "metadata": {
        "id": "wLV6zHxyOaAH"
      },
      "outputs": [],
      "source": [
        "from sklearn.model_selection import train_test_split\n",
        "from sklearn.pipeline import Pipeline\n",
        "from sklearn.model_selection import KFold\n",
        "from sklearn.model_selection import cross_val_score\n",
        "from sklearn.model_selection import GridSearchCV\n",
        "from sklearn.linear_model import LogisticRegression\n",
        "from sklearn.svm import SVC\n",
        "from sklearn.neighbors import KNeighborsClassifier\n",
        "from sklearn.tree import DecisionTreeClassifier\n",
        "from sklearn.ensemble import RandomForestClassifier\n",
        "from sklearn.tree import DecisionTreeClassifier\n",
        "from sklearn.linear_model import Perceptron\n",
        "from sklearn.preprocessing import StandardScaler\n",
        "from sklearn.metrics import classification_report\n",
        "from sklearn.model_selection import train_test_split\n",
        "from scipy import stats\n",
        "import math\n",
        "import ast"
      ]
    },
    {
      "cell_type": "code",
      "source": [
        "spotify_data = spotify_clean_data.copy()"
      ],
      "metadata": {
        "id": "rk7U2IE15MWI"
      },
      "execution_count": 321,
      "outputs": []
    },
    {
      "cell_type": "markdown",
      "metadata": {
        "id": "wGBS6xQSUqcf"
      },
      "source": [
        "**Discretizzazione degli Artisti**\n",
        "\n",
        "Ritengo che gli Artisti possano essere una feature utile ed interessante, quindi tolgo la colonna \"Artist\" che al momento è un array di array di stringhe e procedo a creare una colonna nel mio dataframe (feature) per ogni artista, la quale verrà poi popolata da 1 se la canzone corrispondente è cantata da quell'artista, 0 altrimenti"
      ]
    },
    {
      "cell_type": "code",
      "execution_count": 322,
      "metadata": {
        "id": "gluBg65U-f_J"
      },
      "outputs": [],
      "source": [
        "#Estrapolo tutti gli Artisti e li aggiungo ad un set in modo che siano unici e distinti\n",
        "artists=set()\n",
        "for names in set(spotify_clean_data[\"Artist\"].values):\n",
        "  tmp=names.split(\", \")\n",
        "  for a in tmp:\n",
        "    artists.add(a)\n"
      ]
    },
    {
      "cell_type": "code",
      "execution_count": 323,
      "metadata": {
        "id": "dL-bEy3j9le2"
      },
      "outputs": [],
      "source": [
        "#Creo una matrice di zeri m*n con m=lunghezza tuple dataset e n=numero di artisti\n",
        "zeros_placeholders=np.zeros((len(spotify_clean_data['Song Name']),len(artists)))\n",
        "\n",
        "#Successivamente creo un dataframe temporaneo che ha come valori la matrice di zeri precedentemente creata e\n",
        "#come intestazioni delle colonne il set degli artisti\n",
        "artists_to_merge=pd.DataFrame(zeros_placeholders, columns=artists, dtype=int)"
      ]
    },
    {
      "cell_type": "code",
      "execution_count": 324,
      "metadata": {
        "id": "X_8PS05OOKbj"
      },
      "outputs": [],
      "source": [
        "#Unisco il dataframe appena creato le cui features sono i singoli artisti al mio dataframe iniziale\n",
        "artists_merged=pd.concat([artists_to_merge, spotify_clean_data[\"Song Name\"]],axis=1)\n",
        "artists_merged.dropna(inplace=True)"
      ]
    },
    {
      "cell_type": "code",
      "execution_count": 325,
      "metadata": {
        "colab": {
          "base_uri": "https://localhost:8080/"
        },
        "id": "Hn03VR4rhW4R",
        "outputId": "25906125-1dd8-41df-e864-a1bcded043b9"
      },
      "outputs": [
        {
          "output_type": "stream",
          "name": "stderr",
          "text": [
            "/usr/local/lib/python3.8/dist-packages/pandas/core/indexing.py:1684: PerformanceWarning: DataFrame is highly fragmented.  This is usually the result of calling `frame.insert` many times, which has poor performance.  Consider joining all columns at once using pd.concat(axis=1) instead.  To get a de-fragmented frame, use `newframe = frame.copy()`\n",
            "  self.obj[key] = infer_fill_value(value)\n"
          ]
        }
      ],
      "source": [
        "#Procedo a popolare la parte della matrice di zeri appena unita, guardo le colonne appena unite e cerco il\n",
        "#match con gli artisti presenti nella vecchia colonna Artist\n",
        "#\n",
        "#    Legenda: 1 vuol dire che la canzone X viene cantata dall'artista Y\n",
        "#              0 vuol dire che la canzone X non viene cantata dall'artista Y\n",
        "#\n",
        "for song in spotify_clean_data.values:\n",
        "  tmp=song[1].split(\", \")\n",
        "  for tmp_artist in tmp:\n",
        "    spotify_clean_data.loc[spotify_clean_data[\"Song Name\"]==song[0],tmp_artist]=1"
      ]
    },
    {
      "cell_type": "code",
      "execution_count": 326,
      "metadata": {
        "id": "EY0505tQvoUl"
      },
      "outputs": [],
      "source": [
        "spotify_clean_data.fillna(0);"
      ]
    },
    {
      "cell_type": "code",
      "execution_count": 327,
      "metadata": {
        "id": "JEgc-hw2EYhr"
      },
      "outputs": [],
      "source": [
        "#Come per gli artisti estrapolo tutti i generi musicali e li aggiungo ad un set in modo che siano unici e distinti\n",
        "genres=set()\n",
        "for x in spotify_raw_data[\"Genre\"].values:\n",
        "  for j in ast.literal_eval(x):\n",
        "    genres.add(j)"
      ]
    },
    {
      "cell_type": "code",
      "execution_count": 328,
      "metadata": {
        "id": "-en9KJMgLC6O"
      },
      "outputs": [],
      "source": [
        "#Creo una matrice di zeri m*n con m=lunghezza tuple dataset e n=numero di generi musicali\n",
        "zeros_placeholders_genres=np.zeros((len(spotify_clean_data.values),len(genres)))\n",
        "\n",
        "#Successivamente creo un dataframe temporaneo che ha come valori la matrice di zeri precedentemente creata e\n",
        "#come intestazioni delle colonne il set dei generi\n",
        "genres_to_merge=pd.DataFrame(zeros_placeholders_genres, columns=genres, dtype=int)"
      ]
    },
    {
      "cell_type": "code",
      "execution_count": 329,
      "metadata": {
        "id": "RFkIhtdURxhx"
      },
      "outputs": [],
      "source": [
        "#Unisco il mio dataframe principale con il dataframe temporaneo dei generi musicali ed elimino eventuali campi NaN generati dal merge\n",
        "genres_merged=pd.concat([genres_to_merge, spotify_clean_data[\"Song Name\"]],axis=1)\n",
        "genres_merged.dropna(inplace=True)"
      ]
    },
    {
      "cell_type": "code",
      "execution_count": 331,
      "metadata": {
        "id": "QkAzH7WlVcfA"
      },
      "outputs": [],
      "source": [
        "#Procedo a popolare la parte della matrice di zeri appena unita, guardo le colonne appena unite e cerco il\n",
        "#match con i generi presenti nella vecchia colonna Genre\n",
        "#\n",
        "#    Legenda: 1 vuol dire che la canzone X è del genere musicale Y\n",
        "#              0 vuol dire che la canzone X non è del genere musicale Y\n",
        "\n",
        "for song in spotify_clean_data.values:\n",
        "  tmp=ast.literal_eval(song[3])\n",
        "  for genre in tmp:\n",
        "    spotify_clean_data.loc[spotify_clean_data[\"Song Name\"]==song[0],genre]=1"
      ]
    },
    {
      "cell_type": "code",
      "execution_count": 382,
      "metadata": {
        "id": "5Ky0qjKmmlxs"
      },
      "outputs": [],
      "source": [
        "spotify_clean_data.fillna(0,inplace=True);"
      ]
    },
    {
      "cell_type": "code",
      "execution_count": 333,
      "metadata": {
        "colab": {
          "base_uri": "https://localhost:8080/"
        },
        "id": "CA3SQpKu0Nl9",
        "outputId": "f1c550e0-a9ea-413d-b2c0-0a0e468865db"
      },
      "outputs": [
        {
          "output_type": "execute_result",
          "data": {
            "text/plain": [
              "Index\n",
              "2    1.0\n",
              "Name: The Kid LAROI, dtype: float64"
            ]
          },
          "metadata": {},
          "execution_count": 333
        }
      ],
      "source": [
        "#Faccio un controllo conoscendo già la canzone e il cantante per vedere se la cella corrispondente è valorizzata ad 1\n",
        "spotify_clean_data.loc[spotify_clean_data[\"Song Name\"]==\"STAY (with Justin Bieber)\",\"The Kid LAROI\"]"
      ]
    },
    {
      "cell_type": "code",
      "source": [
        "spotify_clean_data.loc[spotify_clean_data[\"Song Name\"]==\"STAY (with Justin Bieber)\",\"The Kid LAROI\"]"
      ],
      "metadata": {
        "colab": {
          "base_uri": "https://localhost:8080/"
        },
        "id": "_3qXHRNF533A",
        "outputId": "56dc10d0-82b9-48d7-fb66-ce7ffe4d1008"
      },
      "execution_count": 334,
      "outputs": [
        {
          "output_type": "execute_result",
          "data": {
            "text/plain": [
              "Index\n",
              "2    1.0\n",
              "Name: The Kid LAROI, dtype: float64"
            ]
          },
          "metadata": {},
          "execution_count": 334
        }
      ]
    },
    {
      "cell_type": "markdown",
      "source": [
        "Creo un'altra features per migliorare il training dei miei modelli:\n",
        "**`ArtistsTopCharted`** : quante volte l'artista di quella canzone è andato in TopChart, se una canzone ha più Artisti verranno sommati i singoli valori di ogni artista"
      ],
      "metadata": {
        "id": "_MXmRbJOoc9F"
      }
    },
    {
      "cell_type": "code",
      "source": [
        "ArtistTopCharted=dict()\n",
        "for a in artists:\n",
        "  ArtistTopCharted[a]=spotify_clean_data[a].sum()"
      ],
      "metadata": {
        "id": "oUvDskZq1YrF"
      },
      "execution_count": 336,
      "outputs": []
    },
    {
      "cell_type": "code",
      "source": [
        "spotify_clean_data[\"ArtistsTopCharted\"]=np.zeros(len(spotify_clean_data[\"Song Name\"]),dtype=int)"
      ],
      "metadata": {
        "id": "89vFRnDo3p_4"
      },
      "execution_count": 337,
      "outputs": []
    },
    {
      "cell_type": "code",
      "source": [
        "for song in spotify_clean_data.values:\n",
        "  tmp_s=song[0]\n",
        "  for tmp_a in song[1].split(\", \"):\n",
        "    flag = spotify_clean_data.loc[spotify_clean_data[\"Song Name\"]==tmp_s,tmp_a].values[0]\n",
        "    #print(\"{} {} {}\".format(flag,tmp_a,tmp_s))\n",
        "    if flag==1:\n",
        "      tmp_cell = spotify_clean_data.loc[spotify_clean_data[\"Song Name\"]==tmp_s,\"ArtistsTopCharted\"].values[0]\n",
        "      if tmp_cell==0:\n",
        "        spotify_clean_data.loc[spotify_clean_data[\"Song Name\"]==tmp_s,\"ArtistsTopCharted\"]=ArtistTopCharted[tmp_a]\n",
        "      else:\n",
        "        spotify_clean_data.loc[spotify_clean_data[\"Song Name\"]==tmp_s,\"ArtistsTopCharted\"]=tmp_cell+ArtistTopCharted[tmp_a]"
      ],
      "metadata": {
        "id": "Tw6j5ugk43X0"
      },
      "execution_count": 338,
      "outputs": []
    },
    {
      "cell_type": "code",
      "source": [
        "tmp_series=spotify_clean_data[\"ArtistsTopCharted\"]"
      ],
      "metadata": {
        "id": "DPem3T9MAHWZ"
      },
      "execution_count": 339,
      "outputs": []
    },
    {
      "cell_type": "code",
      "source": [
        "spotify_data[\"ArtistsTopCharted\"]=tmp_series"
      ],
      "metadata": {
        "id": "acI-78cqC1pe"
      },
      "execution_count": 340,
      "outputs": []
    },
    {
      "cell_type": "markdown",
      "metadata": {
        "id": "ih7btdcfDeUv"
      },
      "source": [
        "#Analisi dei Dati"
      ]
    },
    {
      "cell_type": "code",
      "execution_count": 341,
      "metadata": {
        "colab": {
          "base_uri": "https://localhost:8080/",
          "height": 300
        },
        "id": "CAHyfnPzdMYd",
        "outputId": "1f780a17-1b50-4e9d-9e31-4444cc969121"
      },
      "outputs": [
        {
          "output_type": "execute_result",
          "data": {
            "text/plain": [
              "       Danceability       Energy     Loudness  Speechiness  Acousticness  \\\n",
              "count   1545.000000  1545.000000  1545.000000  1545.000000   1545.000000   \n",
              "mean       0.689997     0.633495    -6.348474     0.123656      0.248695   \n",
              "std        0.142444     0.161577     2.509281     0.110383      0.250326   \n",
              "min        0.150000     0.054000   -25.166000     0.023200      0.000025   \n",
              "25%        0.599000     0.532000    -7.491000     0.045600      0.048500   \n",
              "50%        0.707000     0.642000    -5.990000     0.076500      0.161000   \n",
              "75%        0.796000     0.752000    -4.711000     0.165000      0.388000   \n",
              "max        0.980000     0.970000     1.509000     0.884000      0.994000   \n",
              "\n",
              "          Liveness        Tempo       Duration      Valence  ArtistsTopCharted  \n",
              "count  1545.000000  1545.000000    1545.000000  1545.000000        1545.000000  \n",
              "mean      0.181202   122.811023  197940.816828     0.514704          16.276375  \n",
              "std       0.144071    29.591088   47148.930420     0.227326          17.134318  \n",
              "min       0.019700    46.718000   30133.000000     0.032000           1.000000  \n",
              "25%       0.096600    97.960000  169266.000000     0.343000           3.000000  \n",
              "50%       0.124000   122.012000  193591.000000     0.512000           9.000000  \n",
              "75%       0.217000   143.860000  218902.000000     0.691000          25.000000  \n",
              "max       0.962000   205.272000  588139.000000     0.979000         107.000000  "
            ],
            "text/html": [
              "\n",
              "  <div id=\"df-09b4d942-c993-44ae-95ed-48d14bc00016\">\n",
              "    <div class=\"colab-df-container\">\n",
              "      <div>\n",
              "<style scoped>\n",
              "    .dataframe tbody tr th:only-of-type {\n",
              "        vertical-align: middle;\n",
              "    }\n",
              "\n",
              "    .dataframe tbody tr th {\n",
              "        vertical-align: top;\n",
              "    }\n",
              "\n",
              "    .dataframe thead th {\n",
              "        text-align: right;\n",
              "    }\n",
              "</style>\n",
              "<table border=\"1\" class=\"dataframe\">\n",
              "  <thead>\n",
              "    <tr style=\"text-align: right;\">\n",
              "      <th></th>\n",
              "      <th>Danceability</th>\n",
              "      <th>Energy</th>\n",
              "      <th>Loudness</th>\n",
              "      <th>Speechiness</th>\n",
              "      <th>Acousticness</th>\n",
              "      <th>Liveness</th>\n",
              "      <th>Tempo</th>\n",
              "      <th>Duration</th>\n",
              "      <th>Valence</th>\n",
              "      <th>ArtistsTopCharted</th>\n",
              "    </tr>\n",
              "  </thead>\n",
              "  <tbody>\n",
              "    <tr>\n",
              "      <th>count</th>\n",
              "      <td>1545.000000</td>\n",
              "      <td>1545.000000</td>\n",
              "      <td>1545.000000</td>\n",
              "      <td>1545.000000</td>\n",
              "      <td>1545.000000</td>\n",
              "      <td>1545.000000</td>\n",
              "      <td>1545.000000</td>\n",
              "      <td>1545.000000</td>\n",
              "      <td>1545.000000</td>\n",
              "      <td>1545.000000</td>\n",
              "    </tr>\n",
              "    <tr>\n",
              "      <th>mean</th>\n",
              "      <td>0.689997</td>\n",
              "      <td>0.633495</td>\n",
              "      <td>-6.348474</td>\n",
              "      <td>0.123656</td>\n",
              "      <td>0.248695</td>\n",
              "      <td>0.181202</td>\n",
              "      <td>122.811023</td>\n",
              "      <td>197940.816828</td>\n",
              "      <td>0.514704</td>\n",
              "      <td>16.276375</td>\n",
              "    </tr>\n",
              "    <tr>\n",
              "      <th>std</th>\n",
              "      <td>0.142444</td>\n",
              "      <td>0.161577</td>\n",
              "      <td>2.509281</td>\n",
              "      <td>0.110383</td>\n",
              "      <td>0.250326</td>\n",
              "      <td>0.144071</td>\n",
              "      <td>29.591088</td>\n",
              "      <td>47148.930420</td>\n",
              "      <td>0.227326</td>\n",
              "      <td>17.134318</td>\n",
              "    </tr>\n",
              "    <tr>\n",
              "      <th>min</th>\n",
              "      <td>0.150000</td>\n",
              "      <td>0.054000</td>\n",
              "      <td>-25.166000</td>\n",
              "      <td>0.023200</td>\n",
              "      <td>0.000025</td>\n",
              "      <td>0.019700</td>\n",
              "      <td>46.718000</td>\n",
              "      <td>30133.000000</td>\n",
              "      <td>0.032000</td>\n",
              "      <td>1.000000</td>\n",
              "    </tr>\n",
              "    <tr>\n",
              "      <th>25%</th>\n",
              "      <td>0.599000</td>\n",
              "      <td>0.532000</td>\n",
              "      <td>-7.491000</td>\n",
              "      <td>0.045600</td>\n",
              "      <td>0.048500</td>\n",
              "      <td>0.096600</td>\n",
              "      <td>97.960000</td>\n",
              "      <td>169266.000000</td>\n",
              "      <td>0.343000</td>\n",
              "      <td>3.000000</td>\n",
              "    </tr>\n",
              "    <tr>\n",
              "      <th>50%</th>\n",
              "      <td>0.707000</td>\n",
              "      <td>0.642000</td>\n",
              "      <td>-5.990000</td>\n",
              "      <td>0.076500</td>\n",
              "      <td>0.161000</td>\n",
              "      <td>0.124000</td>\n",
              "      <td>122.012000</td>\n",
              "      <td>193591.000000</td>\n",
              "      <td>0.512000</td>\n",
              "      <td>9.000000</td>\n",
              "    </tr>\n",
              "    <tr>\n",
              "      <th>75%</th>\n",
              "      <td>0.796000</td>\n",
              "      <td>0.752000</td>\n",
              "      <td>-4.711000</td>\n",
              "      <td>0.165000</td>\n",
              "      <td>0.388000</td>\n",
              "      <td>0.217000</td>\n",
              "      <td>143.860000</td>\n",
              "      <td>218902.000000</td>\n",
              "      <td>0.691000</td>\n",
              "      <td>25.000000</td>\n",
              "    </tr>\n",
              "    <tr>\n",
              "      <th>max</th>\n",
              "      <td>0.980000</td>\n",
              "      <td>0.970000</td>\n",
              "      <td>1.509000</td>\n",
              "      <td>0.884000</td>\n",
              "      <td>0.994000</td>\n",
              "      <td>0.962000</td>\n",
              "      <td>205.272000</td>\n",
              "      <td>588139.000000</td>\n",
              "      <td>0.979000</td>\n",
              "      <td>107.000000</td>\n",
              "    </tr>\n",
              "  </tbody>\n",
              "</table>\n",
              "</div>\n",
              "      <button class=\"colab-df-convert\" onclick=\"convertToInteractive('df-09b4d942-c993-44ae-95ed-48d14bc00016')\"\n",
              "              title=\"Convert this dataframe to an interactive table.\"\n",
              "              style=\"display:none;\">\n",
              "        \n",
              "  <svg xmlns=\"http://www.w3.org/2000/svg\" height=\"24px\"viewBox=\"0 0 24 24\"\n",
              "       width=\"24px\">\n",
              "    <path d=\"M0 0h24v24H0V0z\" fill=\"none\"/>\n",
              "    <path d=\"M18.56 5.44l.94 2.06.94-2.06 2.06-.94-2.06-.94-.94-2.06-.94 2.06-2.06.94zm-11 1L8.5 8.5l.94-2.06 2.06-.94-2.06-.94L8.5 2.5l-.94 2.06-2.06.94zm10 10l.94 2.06.94-2.06 2.06-.94-2.06-.94-.94-2.06-.94 2.06-2.06.94z\"/><path d=\"M17.41 7.96l-1.37-1.37c-.4-.4-.92-.59-1.43-.59-.52 0-1.04.2-1.43.59L10.3 9.45l-7.72 7.72c-.78.78-.78 2.05 0 2.83L4 21.41c.39.39.9.59 1.41.59.51 0 1.02-.2 1.41-.59l7.78-7.78 2.81-2.81c.8-.78.8-2.07 0-2.86zM5.41 20L4 18.59l7.72-7.72 1.47 1.35L5.41 20z\"/>\n",
              "  </svg>\n",
              "      </button>\n",
              "      \n",
              "  <style>\n",
              "    .colab-df-container {\n",
              "      display:flex;\n",
              "      flex-wrap:wrap;\n",
              "      gap: 12px;\n",
              "    }\n",
              "\n",
              "    .colab-df-convert {\n",
              "      background-color: #E8F0FE;\n",
              "      border: none;\n",
              "      border-radius: 50%;\n",
              "      cursor: pointer;\n",
              "      display: none;\n",
              "      fill: #1967D2;\n",
              "      height: 32px;\n",
              "      padding: 0 0 0 0;\n",
              "      width: 32px;\n",
              "    }\n",
              "\n",
              "    .colab-df-convert:hover {\n",
              "      background-color: #E2EBFA;\n",
              "      box-shadow: 0px 1px 2px rgba(60, 64, 67, 0.3), 0px 1px 3px 1px rgba(60, 64, 67, 0.15);\n",
              "      fill: #174EA6;\n",
              "    }\n",
              "\n",
              "    [theme=dark] .colab-df-convert {\n",
              "      background-color: #3B4455;\n",
              "      fill: #D2E3FC;\n",
              "    }\n",
              "\n",
              "    [theme=dark] .colab-df-convert:hover {\n",
              "      background-color: #434B5C;\n",
              "      box-shadow: 0px 1px 3px 1px rgba(0, 0, 0, 0.15);\n",
              "      filter: drop-shadow(0px 1px 2px rgba(0, 0, 0, 0.3));\n",
              "      fill: #FFFFFF;\n",
              "    }\n",
              "  </style>\n",
              "\n",
              "      <script>\n",
              "        const buttonEl =\n",
              "          document.querySelector('#df-09b4d942-c993-44ae-95ed-48d14bc00016 button.colab-df-convert');\n",
              "        buttonEl.style.display =\n",
              "          google.colab.kernel.accessAllowed ? 'block' : 'none';\n",
              "\n",
              "        async function convertToInteractive(key) {\n",
              "          const element = document.querySelector('#df-09b4d942-c993-44ae-95ed-48d14bc00016');\n",
              "          const dataTable =\n",
              "            await google.colab.kernel.invokeFunction('convertToInteractive',\n",
              "                                                     [key], {});\n",
              "          if (!dataTable) return;\n",
              "\n",
              "          const docLinkHtml = 'Like what you see? Visit the ' +\n",
              "            '<a target=\"_blank\" href=https://colab.research.google.com/notebooks/data_table.ipynb>data table notebook</a>'\n",
              "            + ' to learn more about interactive tables.';\n",
              "          element.innerHTML = '';\n",
              "          dataTable['output_type'] = 'display_data';\n",
              "          await google.colab.output.renderOutput(dataTable, element);\n",
              "          const docLink = document.createElement('div');\n",
              "          docLink.innerHTML = docLinkHtml;\n",
              "          element.appendChild(docLink);\n",
              "        }\n",
              "      </script>\n",
              "    </div>\n",
              "  </div>\n",
              "  "
            ]
          },
          "metadata": {},
          "execution_count": 341
        }
      ],
      "source": [
        "data_to_describe=spotify_data.drop(['Top100Chart',\"Song Name\",\"Genre\",\"Chord\",\"Artist\",\"Artist Followers\"], axis=1)\n",
        "data_to_describe.astype(float).describe()"
      ]
    },
    {
      "cell_type": "markdown",
      "source": [
        "Come possiamo vedere dalla funzione **`describe`** possiamo vedere come sono distribuiti i nostri dati; sono tutti distribuiti uniformemente intorno la loro media ad eccezione di ***Tempo*** e ***Duration***.\n",
        "\n",
        "Non credo che queste due features possano comunque alterare l'elaborazione di un modello poichè su circa 1500 valori penso sia normale che features con un divario così ampio di valori tra MAX e MIN, soprattutto se parliamo di durata di una canzone o del suo ritmo, infatti la canzone più breve nel dataset dura 30 sec mentre la più lunga circa 9 minuti."
      ],
      "metadata": {
        "id": "B7n6-GF8gbpZ"
      }
    },
    {
      "cell_type": "code",
      "source": [
        "top_chart_10= [x<=10 for x in spotify_raw_data[\"Highest Charting Position\"]]\n",
        "top_chart_50= [x<=50 for x in spotify_raw_data[\"Highest Charting Position\"]]\n"
      ],
      "metadata": {
        "id": "oKCTh2KnjFb0"
      },
      "execution_count": 342,
      "outputs": []
    },
    {
      "cell_type": "markdown",
      "source": [
        "Calcolo sul momento le features Top50Chart e Top10Chart"
      ],
      "metadata": {
        "id": "AlJak8GamCaW"
      }
    },
    {
      "cell_type": "code",
      "source": [
        "palette_pie_chart=['#7F7','#F77']"
      ],
      "metadata": {
        "id": "_KkOTAlhspO6"
      },
      "execution_count": 343,
      "outputs": []
    },
    {
      "cell_type": "code",
      "execution_count": 344,
      "metadata": {
        "colab": {
          "base_uri": "https://localhost:8080/",
          "height": 375
        },
        "id": "vN1GUgY1Dh0M",
        "outputId": "5c3e8bfc-a666-4c69-a63b-b67d2e5660e1"
      },
      "outputs": [
        {
          "output_type": "display_data",
          "data": {
            "text/plain": [
              "<Figure size 1440x864 with 3 Axes>"
            ],
            "image/png": "[encoded data removed]"
          },
          "metadata": {}
        }
      ],
      "source": [
        "plt.figure(figsize =(20, 12));\n",
        "\n",
        "plt.subplot(1,3,1);\n",
        "spotify_data['Top100Chart'].value_counts().plot.pie(autopct='%1.2f%%',colors=palette_pie_chart);\n",
        "plt.title(\"Top100Chart\");\n",
        "\n",
        "plt.subplot(1,3,2);\n",
        "plt.pie([top_chart_50.count(True),top_chart_50.count(False)],autopct='%1.2f%%',labels=[\"True\",\"False\"],colors=palette_pie_chart);\n",
        "plt.title(\"Top50Chart\");\n",
        "\n",
        "plt.subplot(1,3,3);\n",
        "plt.pie([top_chart_10.count(True),top_chart_10.count(False)],autopct='%1.2f%%',labels=[\"True\",\"False\"],colors=palette_pie_chart);\n",
        "plt.title(\"Top10Chart\");"
      ]
    },
    {
      "cell_type": "markdown",
      "source": [
        "Purtroppo la **`Top10Chart`** sarebbe stata molto interessante ma non vi erano abbastanza dati, ho provato con la **`Top50Chart`** ma i modelli non hanno prodotto poi un risultato soddisfacente (di seguito i risultati) :\n",
        "\n",
        "* Perceptron            0.46516614026994096\n",
        "* Logistic Regression   0.44606861763724504\n",
        "* RandomForest          0.04390019933257183\n",
        "* Decision Tree         0.3837457296588011\n",
        "\n",
        "La **`Top100Chart`** mi sembra quindi l'unica opzione guardando i dati e il grafico, con circa il 60% di valori a *True*\n",
        "\n",
        "\n",
        "\n",
        "\n",
        "  \n",
        "  \n",
        " \n",
        "\n"
      ],
      "metadata": {
        "id": "tvbhenhKtYYe"
      }
    },
    {
      "cell_type": "code",
      "source": [
        "fig, axes = plt.subplots(nrows=1, ncols=4, sharex=False, sharey=False, figsize=(30, 10))\n",
        "\n",
        "axes[0].boxplot([float(x) for x in spotify_data[\"Duration\"]], showmeans=True)\n",
        "axes[1].boxplot([float(x) for x in spotify_data[\"Tempo\"]], showmeans=True)\n",
        "axes[2].boxplot([float(x) for x in spotify_data[\"Valence\"]], showmeans=True)\n",
        "axes[3].boxplot([float(x) for x in spotify_data[\"Energy\"]], showmeans=True)\n",
        "\n",
        "axes[0].set_title(\"Duration\");\n",
        "axes[1].set_title(\"Tempo\");\n",
        "axes[2].set_title(\"Valence\");\n",
        "axes[3].set_title(\"Energy\");"
      ],
      "metadata": {
        "colab": {
          "base_uri": "https://localhost:8080/",
          "height": 607
        },
        "id": "0G_cbtpssPxj",
        "outputId": "9d3b944a-f0b8-4be4-e01c-cf503162aedf"
      },
      "execution_count": 345,
      "outputs": [
        {
          "output_type": "display_data",
          "data": {
            "text/plain": [
              "<Figure size 2160x720 with 4 Axes>"
            ],
            "image/png": "[encoded data removed]"
          },
          "metadata": {
            "needs_background": "light"
          }
        }
      ]
    },
    {
      "cell_type": "markdown",
      "source": [
        "I dati che ritroviamo da questi Boxplot sono interessanti: a mio parere **`Duration`**, **`Tempo`**, **`Valence`** e **`Energy`** sono le feature che possono di più influenzare il modello.\n",
        "\n",
        "Però da quanto possiamo vedere **`Tempo`** e **`Valence`** sono distribuiti abbastanza uniformemente; mentre per **`Energy`** abbiamo qualche valore anomalo e per **`Duration`** notiamo una maggiore concentrazione di outliers composta dai valori più piccoli dell'insieme. "
      ],
      "metadata": {
        "id": "EIixDmBtxxTR"
      }
    },
    {
      "cell_type": "code",
      "execution_count": 346,
      "metadata": {
        "id": "VuzWiWZIRLNS"
      },
      "outputs": [],
      "source": [
        "import seaborn as sns\n",
        "\n",
        "from matplotlib import rcParams"
      ]
    },
    {
      "cell_type": "code",
      "execution_count": 347,
      "metadata": {
        "id": "ZhGysJNiFuNw"
      },
      "outputs": [],
      "source": [
        "def plot_correlation(dataset):\n",
        "    cmap = sns.diverging_palette(220, 10, as_cmap=True);\n",
        "    # Generate a mask for the upper triangle\n",
        "    mask = np.zeros_like(dataset, dtype=bool);\n",
        "    mask[np.triu_indices_from(mask)] = True;\n",
        "\n",
        "    # Set up the matplotlib figure\n",
        "    f, ax = plt.subplots(figsize=(11, 9))\n",
        "    # Draw the heatmap with the mask and correct aspect ratio\n",
        "    sns.heatmap(dataset, mask=mask, cmap=cmap, vmax=.3, center=0,annot = True, square=True, linewidths=.5, cbar_kws={\"shrink\": .5});"
      ]
    },
    {
      "cell_type": "code",
      "execution_count": 348,
      "metadata": {
        "id": "zArw1QEcSgwa"
      },
      "outputs": [],
      "source": [
        "heatmap=spotify_data.drop([\"Song Name\",\"Genre\",\"Chord\",\"Artist\"],axis=1)\n",
        "heatmap.dropna(inplace=True)"
      ]
    },
    {
      "cell_type": "code",
      "source": [
        "plot_correlation(heatmap.astype(float).corr());"
      ],
      "metadata": {
        "colab": {
          "base_uri": "https://localhost:8080/",
          "height": 616
        },
        "id": "6vi8EIqcAQsX",
        "outputId": "59a8df43-a6b4-49a9-8444-52f2d414d017"
      },
      "execution_count": 349,
      "outputs": [
        {
          "output_type": "display_data",
          "data": {
            "text/plain": [
              "<Figure size 792x648 with 2 Axes>"
            ],
            "image/png": "[encoded data removed]"
          },
          "metadata": {
            "needs_background": "light"
          }
        }
      ]
    },
    {
      "cell_type": "markdown",
      "source": [
        "Da questo grafico possiamo capire meglio qualche correlazione : \n",
        "\n",
        "*   **`Loudness`** & **`Energy`** : ovviamente come ci si poteva aspettare la feature che misura il valore in db della traccia è strettamente collegata alla feature che misura quanto più una traccia è energica, vivace e rumorosa.\n",
        "*   **`Valence`** & **`Danceability`**, **`Energy`**, **`Loudness`** : da questo grafico possiamo notare come le canzoni che hanno più valenza, ovvero che trasmettono più positività, sono in media canzoni molto energiche, rumorose e su cui ci si può ballare.\n",
        "*   **`Acousticness`** & **`Energy`** : da questa correlazione si evince che più un brano è acustico e meno sarà vivace ed energico, bensì sarà più tranquillo.\n",
        "*   **`Top100Chart`** vs **`Artist Followers`** : vediamo come i followers di un artista influenzino lievemente una canzone in Top 100. Quindi ci aspettiamo che una nuova canzone di un artista con tanti followers abbia più possibilità di entrare nella Top 100 rispetto ad una canzone di un artista con pochi followers.\n",
        "Dalle analisi precedenti mi aspettavo forse una correlazione più evidente tra la **`Top100Chart`** il **`Tempo`** e la **`Duration`**, probabilmente questo è causa di una correlazione non diretta tra le varie features.\n",
        "\n"
      ],
      "metadata": {
        "id": "k21KkWRqmIwP"
      }
    },
    {
      "cell_type": "code",
      "source": [
        "fig, axes = plt.subplots(nrows=1, ncols=3, sharex=False, sharey=False, figsize=(20, 10));\n",
        "\n",
        "sample=spotify_data.sample(1000)\n",
        "\n",
        "axes[0].scatter([float(x) for x in sample['Loudness']],[float(x) for x in sample[\"Energy\"]])\n",
        "axes[1].scatter([int(x) for x in sample['Artist Followers']],[int(x) for x in sample[\"ArtistsTopCharted\"]])\n",
        "axes[2].scatter([float(x) for x in sample['Energy']],[float(x) for x in sample[\"Acousticness\"]])\n",
        "\n",
        "axes[0].set_xlabel(\"Loudness\");\n",
        "axes[0].set_ylabel(\"Energy\");\n",
        "axes[1].set_xlabel(\"Artist Followers\");\n",
        "axes[1].set_ylabel(\"ArtistsTopCharted\");\n",
        "axes[2].set_xlabel(\"Energy\");\n",
        "axes[2].set_ylabel(\"Acousticness\");\n"
      ],
      "metadata": {
        "colab": {
          "base_uri": "https://localhost:8080/",
          "height": 606
        },
        "id": "pYtdAhblS8WD",
        "outputId": "5b767092-a4a9-49c9-cd30-c5df0c9bfb77"
      },
      "execution_count": 350,
      "outputs": [
        {
          "output_type": "display_data",
          "data": {
            "text/plain": [
              "<Figure size 1440x720 with 3 Axes>"
            ],
            "image/png": "[encoded data removed]"
          },
          "metadata": {
            "needs_background": "light"
          }
        }
      ]
    },
    {
      "cell_type": "markdown",
      "metadata": {
        "id": "Nswawmv-QJZN"
      },
      "source": [
        "#Modellazione"
      ]
    },
    {
      "cell_type": "code",
      "execution_count": 351,
      "metadata": {
        "id": "rT5kFAjkbhhj"
      },
      "outputs": [],
      "source": [
        "X = spotify_clean_data.drop(['Top100Chart',\"Song Name\",\"Genre\",\"Chord\",\"Artist\"], axis=1)\n",
        "y = spotify_clean_data['Top100Chart']"
      ]
    },
    {
      "cell_type": "code",
      "execution_count": 352,
      "metadata": {
        "id": "zIzR5I7Kbhhj"
      },
      "outputs": [],
      "source": [
        "y=y.astype('int')"
      ]
    },
    {
      "cell_type": "code",
      "execution_count": 353,
      "metadata": {
        "id": "zcdLPpQbbhhj"
      },
      "outputs": [],
      "source": [
        "X_train, X_val, y_train, y_val = train_test_split(X, y.values.ravel(), test_size=0.3, random_state=43, stratify=y.values)"
      ]
    },
    {
      "cell_type": "code",
      "execution_count": 354,
      "metadata": {
        "id": "31O4p62sbhhj",
        "colab": {
          "base_uri": "https://localhost:8080/",
          "height": 346
        },
        "outputId": "5c509009-e5f1-4999-f92a-38aecf482827"
      },
      "outputs": [
        {
          "output_type": "execute_result",
          "data": {
            "text/plain": [
              "      Artist Followers Danceability Energy Loudness Speechiness Acousticness  \\\n",
              "Index                                                                          \n",
              "874            1255573        0.954  0.696   -7.117       0.204      0.00576   \n",
              "131             409173        0.682  0.873   -4.163      0.0449        0.402   \n",
              "75               27116        0.727  0.681   -7.114      0.0265      0.00214   \n",
              "366            3126961         0.83  0.748   -5.362       0.162        0.354   \n",
              "129            6266514        0.638  0.259  -10.706      0.0898        0.753   \n",
              "\n",
              "      Liveness    Tempo Duration Valence  ...  venezuelan hip hop  meme rap  \\\n",
              "Index                                     ...                                 \n",
              "874     0.0754  100.036   139413   0.432  ...                 0.0       0.0   \n",
              "131     0.0946  150.006   147072   0.964  ...                 0.0       0.0   \n",
              "75      0.0861  123.028   241970   0.448  ...                 0.0       0.0   \n",
              "366     0.0992  133.028   177443   0.523  ...                 0.0       0.0   \n",
              "129      0.219   88.485   202827   0.269  ...                 0.0       0.0   \n",
              "\n",
              "       grime  brega funk  moombahton  pittsburgh rap  new orleans rap  \\\n",
              "Index                                                                   \n",
              "874      0.0         0.0         0.0             0.0              0.0   \n",
              "131      0.0         0.0         0.0             0.0              0.0   \n",
              "75       0.0         0.0         0.0             0.0              0.0   \n",
              "366      0.0         0.0         0.0             0.0              0.0   \n",
              "129      0.0         0.0         0.0             0.0              0.0   \n",
              "\n",
              "       deep german hip hop  turkish trap  ArtistsTopCharted  \n",
              "Index                                                        \n",
              "874                    0.0           0.0                  3  \n",
              "131                    0.0           0.0                  3  \n",
              "75                     0.0           0.0                  1  \n",
              "366                    0.0           0.0                  7  \n",
              "129                    0.0           0.0                 12  \n",
              "\n",
              "[5 rows x 1048 columns]"
            ],
            "text/html": [
              "\n",
              "  <div id=\"df-ce5230fc-541f-48be-83df-f3c2177b8b4e\">\n",
              "    <div class=\"colab-df-container\">\n",
              "      <div>\n",
              "<style scoped>\n",
              "    .dataframe tbody tr th:only-of-type {\n",
              "        vertical-align: middle;\n",
              "    }\n",
              "\n",
              "    .dataframe tbody tr th {\n",
              "        vertical-align: top;\n",
              "    }\n",
              "\n",
              "    .dataframe thead th {\n",
              "        text-align: right;\n",
              "    }\n",
              "</style>\n",
              "<table border=\"1\" class=\"dataframe\">\n",
              "  <thead>\n",
              "    <tr style=\"text-align: right;\">\n",
              "      <th></th>\n",
              "      <th>Artist Followers</th>\n",
              "      <th>Danceability</th>\n",
              "      <th>Energy</th>\n",
              "      <th>Loudness</th>\n",
              "      <th>Speechiness</th>\n",
              "      <th>Acousticness</th>\n",
              "      <th>Liveness</th>\n",
              "      <th>Tempo</th>\n",
              "      <th>Duration</th>\n",
              "      <th>Valence</th>\n",
              "      <th>...</th>\n",
              "      <th>venezuelan hip hop</th>\n",
              "      <th>meme rap</th>\n",
              "      <th>grime</th>\n",
              "      <th>brega funk</th>\n",
              "      <th>moombahton</th>\n",
              "      <th>pittsburgh rap</th>\n",
              "      <th>new orleans rap</th>\n",
              "      <th>deep german hip hop</th>\n",
              "      <th>turkish trap</th>\n",
              "      <th>ArtistsTopCharted</th>\n",
              "    </tr>\n",
              "    <tr>\n",
              "      <th>Index</th>\n",
              "      <th></th>\n",
              "      <th></th>\n",
              "      <th></th>\n",
              "      <th></th>\n",
              "      <th></th>\n",
              "      <th></th>\n",
              "      <th></th>\n",
              "      <th></th>\n",
              "      <th></th>\n",
              "      <th></th>\n",
              "      <th></th>\n",
              "      <th></th>\n",
              "      <th></th>\n",
              "      <th></th>\n",
              "      <th></th>\n",
              "      <th></th>\n",
              "      <th></th>\n",
              "      <th></th>\n",
              "      <th></th>\n",
              "      <th></th>\n",
              "      <th></th>\n",
              "    </tr>\n",
              "  </thead>\n",
              "  <tbody>\n",
              "    <tr>\n",
              "      <th>874</th>\n",
              "      <td>1255573</td>\n",
              "      <td>0.954</td>\n",
              "      <td>0.696</td>\n",
              "      <td>-7.117</td>\n",
              "      <td>0.204</td>\n",
              "      <td>0.00576</td>\n",
              "      <td>0.0754</td>\n",
              "      <td>100.036</td>\n",
              "      <td>139413</td>\n",
              "      <td>0.432</td>\n",
              "      <td>...</td>\n",
              "      <td>0.0</td>\n",
              "      <td>0.0</td>\n",
              "      <td>0.0</td>\n",
              "      <td>0.0</td>\n",
              "      <td>0.0</td>\n",
              "      <td>0.0</td>\n",
              "      <td>0.0</td>\n",
              "      <td>0.0</td>\n",
              "      <td>0.0</td>\n",
              "      <td>3</td>\n",
              "    </tr>\n",
              "    <tr>\n",
              "      <th>131</th>\n",
              "      <td>409173</td>\n",
              "      <td>0.682</td>\n",
              "      <td>0.873</td>\n",
              "      <td>-4.163</td>\n",
              "      <td>0.0449</td>\n",
              "      <td>0.402</td>\n",
              "      <td>0.0946</td>\n",
              "      <td>150.006</td>\n",
              "      <td>147072</td>\n",
              "      <td>0.964</td>\n",
              "      <td>...</td>\n",
              "      <td>0.0</td>\n",
              "      <td>0.0</td>\n",
              "      <td>0.0</td>\n",
              "      <td>0.0</td>\n",
              "      <td>0.0</td>\n",
              "      <td>0.0</td>\n",
              "      <td>0.0</td>\n",
              "      <td>0.0</td>\n",
              "      <td>0.0</td>\n",
              "      <td>3</td>\n",
              "    </tr>\n",
              "    <tr>\n",
              "      <th>75</th>\n",
              "      <td>27116</td>\n",
              "      <td>0.727</td>\n",
              "      <td>0.681</td>\n",
              "      <td>-7.114</td>\n",
              "      <td>0.0265</td>\n",
              "      <td>0.00214</td>\n",
              "      <td>0.0861</td>\n",
              "      <td>123.028</td>\n",
              "      <td>241970</td>\n",
              "      <td>0.448</td>\n",
              "      <td>...</td>\n",
              "      <td>0.0</td>\n",
              "      <td>0.0</td>\n",
              "      <td>0.0</td>\n",
              "      <td>0.0</td>\n",
              "      <td>0.0</td>\n",
              "      <td>0.0</td>\n",
              "      <td>0.0</td>\n",
              "      <td>0.0</td>\n",
              "      <td>0.0</td>\n",
              "      <td>1</td>\n",
              "    </tr>\n",
              "    <tr>\n",
              "      <th>366</th>\n",
              "      <td>3126961</td>\n",
              "      <td>0.83</td>\n",
              "      <td>0.748</td>\n",
              "      <td>-5.362</td>\n",
              "      <td>0.162</td>\n",
              "      <td>0.354</td>\n",
              "      <td>0.0992</td>\n",
              "      <td>133.028</td>\n",
              "      <td>177443</td>\n",
              "      <td>0.523</td>\n",
              "      <td>...</td>\n",
              "      <td>0.0</td>\n",
              "      <td>0.0</td>\n",
              "      <td>0.0</td>\n",
              "      <td>0.0</td>\n",
              "      <td>0.0</td>\n",
              "      <td>0.0</td>\n",
              "      <td>0.0</td>\n",
              "      <td>0.0</td>\n",
              "      <td>0.0</td>\n",
              "      <td>7</td>\n",
              "    </tr>\n",
              "    <tr>\n",
              "      <th>129</th>\n",
              "      <td>6266514</td>\n",
              "      <td>0.638</td>\n",
              "      <td>0.259</td>\n",
              "      <td>-10.706</td>\n",
              "      <td>0.0898</td>\n",
              "      <td>0.753</td>\n",
              "      <td>0.219</td>\n",
              "      <td>88.485</td>\n",
              "      <td>202827</td>\n",
              "      <td>0.269</td>\n",
              "      <td>...</td>\n",
              "      <td>0.0</td>\n",
              "      <td>0.0</td>\n",
              "      <td>0.0</td>\n",
              "      <td>0.0</td>\n",
              "      <td>0.0</td>\n",
              "      <td>0.0</td>\n",
              "      <td>0.0</td>\n",
              "      <td>0.0</td>\n",
              "      <td>0.0</td>\n",
              "      <td>12</td>\n",
              "    </tr>\n",
              "  </tbody>\n",
              "</table>\n",
              "<p>5 rows × 1048 columns</p>\n",
              "</div>\n",
              "      <button class=\"colab-df-convert\" onclick=\"convertToInteractive('df-ce5230fc-541f-48be-83df-f3c2177b8b4e')\"\n",
              "              title=\"Convert this dataframe to an interactive table.\"\n",
              "              style=\"display:none;\">\n",
              "        \n",
              "  <svg xmlns=\"http://www.w3.org/2000/svg\" height=\"24px\"viewBox=\"0 0 24 24\"\n",
              "       width=\"24px\">\n",
              "    <path d=\"M0 0h24v24H0V0z\" fill=\"none\"/>\n",
              "    <path d=\"M18.56 5.44l.94 2.06.94-2.06 2.06-.94-2.06-.94-.94-2.06-.94 2.06-2.06.94zm-11 1L8.5 8.5l.94-2.06 2.06-.94-2.06-.94L8.5 2.5l-.94 2.06-2.06.94zm10 10l.94 2.06.94-2.06 2.06-.94-2.06-.94-.94-2.06-.94 2.06-2.06.94z\"/><path d=\"M17.41 7.96l-1.37-1.37c-.4-.4-.92-.59-1.43-.59-.52 0-1.04.2-1.43.59L10.3 9.45l-7.72 7.72c-.78.78-.78 2.05 0 2.83L4 21.41c.39.39.9.59 1.41.59.51 0 1.02-.2 1.41-.59l7.78-7.78 2.81-2.81c.8-.78.8-2.07 0-2.86zM5.41 20L4 18.59l7.72-7.72 1.47 1.35L5.41 20z\"/>\n",
              "  </svg>\n",
              "      </button>\n",
              "      \n",
              "  <style>\n",
              "    .colab-df-container {\n",
              "      display:flex;\n",
              "      flex-wrap:wrap;\n",
              "      gap: 12px;\n",
              "    }\n",
              "\n",
              "    .colab-df-convert {\n",
              "      background-color: #E8F0FE;\n",
              "      border: none;\n",
              "      border-radius: 50%;\n",
              "      cursor: pointer;\n",
              "      display: none;\n",
              "      fill: #1967D2;\n",
              "      height: 32px;\n",
              "      padding: 0 0 0 0;\n",
              "      width: 32px;\n",
              "    }\n",
              "\n",
              "    .colab-df-convert:hover {\n",
              "      background-color: #E2EBFA;\n",
              "      box-shadow: 0px 1px 2px rgba(60, 64, 67, 0.3), 0px 1px 3px 1px rgba(60, 64, 67, 0.15);\n",
              "      fill: #174EA6;\n",
              "    }\n",
              "\n",
              "    [theme=dark] .colab-df-convert {\n",
              "      background-color: #3B4455;\n",
              "      fill: #D2E3FC;\n",
              "    }\n",
              "\n",
              "    [theme=dark] .colab-df-convert:hover {\n",
              "      background-color: #434B5C;\n",
              "      box-shadow: 0px 1px 3px 1px rgba(0, 0, 0, 0.15);\n",
              "      filter: drop-shadow(0px 1px 2px rgba(0, 0, 0, 0.3));\n",
              "      fill: #FFFFFF;\n",
              "    }\n",
              "  </style>\n",
              "\n",
              "      <script>\n",
              "        const buttonEl =\n",
              "          document.querySelector('#df-ce5230fc-541f-48be-83df-f3c2177b8b4e button.colab-df-convert');\n",
              "        buttonEl.style.display =\n",
              "          google.colab.kernel.accessAllowed ? 'block' : 'none';\n",
              "\n",
              "        async function convertToInteractive(key) {\n",
              "          const element = document.querySelector('#df-ce5230fc-541f-48be-83df-f3c2177b8b4e');\n",
              "          const dataTable =\n",
              "            await google.colab.kernel.invokeFunction('convertToInteractive',\n",
              "                                                     [key], {});\n",
              "          if (!dataTable) return;\n",
              "\n",
              "          const docLinkHtml = 'Like what you see? Visit the ' +\n",
              "            '<a target=\"_blank\" href=https://colab.research.google.com/notebooks/data_table.ipynb>data table notebook</a>'\n",
              "            + ' to learn more about interactive tables.';\n",
              "          element.innerHTML = '';\n",
              "          dataTable['output_type'] = 'display_data';\n",
              "          await google.colab.output.renderOutput(dataTable, element);\n",
              "          const docLink = document.createElement('div');\n",
              "          docLink.innerHTML = docLinkHtml;\n",
              "          element.appendChild(docLink);\n",
              "        }\n",
              "      </script>\n",
              "    </div>\n",
              "  </div>\n",
              "  "
            ]
          },
          "metadata": {},
          "execution_count": 354
        }
      ],
      "source": [
        "X_train.head()"
      ]
    },
    {
      "cell_type": "code",
      "execution_count": 355,
      "metadata": {
        "id": "3D474OeCbhhk",
        "colab": {
          "base_uri": "https://localhost:8080/"
        },
        "outputId": "2e7a4467-925e-4639-fd9d-3f732d03f7ec"
      },
      "outputs": [
        {
          "output_type": "stream",
          "name": "stdout",
          "text": [
            "R-squared coefficient: 0.59914\n"
          ]
        }
      ],
      "source": [
        "std_model = Pipeline([\n",
        "    (\"scaler\", StandardScaler()),\n",
        "    (\"model\",  Perceptron())\n",
        "])\n",
        "\n",
        "std_model.fit(X_train,y_train)\n",
        "print(\"R-squared coefficient: {:.5}\".format(std_model.score(X_val, y_val)))\n"
      ]
    },
    {
      "cell_type": "code",
      "execution_count": 356,
      "metadata": {
        "id": "QDZ7qYrGbhhk",
        "colab": {
          "base_uri": "https://localhost:8080/"
        },
        "outputId": "7da37ec9-84b2-4f82-b0ea-79c8bd1d9db2"
      },
      "outputs": [
        {
          "output_type": "execute_result",
          "data": {
            "text/plain": [
              "Rich Music LTD         -51.104012\n",
              "Wesley Safadão         -51.104012\n",
              "dance pop              -46.586576\n",
              "reggaeton colombiano   -41.967685\n",
              "Luísa Sonza            -39.399497\n",
              "progressive house      -39.399497\n",
              "atl hip hop            -36.455670\n",
              "Sky Rompiendo          -36.119260\n",
              "Oliver Heldens         -36.119260\n",
              "Journey                -36.119260\n",
              "dtype: float64"
            ]
          },
          "metadata": {},
          "execution_count": 356
        }
      ],
      "source": [
        "pd.set_option('display.max_rows', None)  \n",
        "first_check_influence=pd.Series(std_model[\"model\"].coef_[0], index=X_train.columns)\n",
        "first_check_influence.sort_values(ascending=True).head(10)"
      ]
    },
    {
      "cell_type": "code",
      "source": [
        "first_check_influence.sort_values(ascending=False).head(10)"
      ],
      "metadata": {
        "colab": {
          "base_uri": "https://localhost:8080/"
        },
        "id": "zhYy65TKcuW3",
        "outputId": "42323aa5-b44c-44fe-d0f3-bb383c58d89c"
      },
      "execution_count": 357,
      "outputs": [
        {
          "output_type": "execute_result",
          "data": {
            "text/plain": [
              "ArtistsTopCharted    52.027066\n",
              "Black Eyed Peas      51.434659\n",
              "nz pop               42.949413\n",
              "r&b en espanol       41.976758\n",
              "RAYE                 41.976758\n",
              "Paul McCartney       41.976758\n",
              "Israel & Rodolffo    41.976758\n",
              "Jack Harlow          36.987813\n",
              "J Balvin             34.298588\n",
              "Maluma               32.460946\n",
              "dtype: float64"
            ]
          },
          "metadata": {},
          "execution_count": 357
        }
      ]
    },
    {
      "cell_type": "code",
      "execution_count": 358,
      "metadata": {
        "id": "f454VicGsxBi"
      },
      "outputs": [],
      "source": [
        "from sklearn.model_selection import KFold, StratifiedKFold\n",
        "skf = StratifiedKFold(3, shuffle=True, random_state=42)"
      ]
    },
    {
      "cell_type": "markdown",
      "source": [
        "Di seguito verranno testati diversi modelli di classificazione.\n",
        "\n",
        "Tramite Grid Search e StratifiedKFold sono generati 4 modelli differenti in grado di stimare gli iperparametri e permettere il calcolo dell'accuratezza dei modelli studiati."
      ],
      "metadata": {
        "id": "uPXlhXEdx8_6"
      }
    },
    {
      "cell_type": "code",
      "execution_count": 359,
      "metadata": {
        "id": "nure_tj0QLQm"
      },
      "outputs": [],
      "source": [
        "from sklearn.model_selection import KFold, StratifiedKFold\n",
        "skf = StratifiedKFold(3, shuffle=True, random_state=42)"
      ]
    },
    {
      "cell_type": "markdown",
      "metadata": {
        "id": "gAVsbYScxQkD"
      },
      "source": [
        "###Perceptron"
      ]
    },
    {
      "cell_type": "code",
      "execution_count": 360,
      "metadata": {
        "id": "zsszpsStFuNy",
        "colab": {
          "base_uri": "https://localhost:8080/"
        },
        "outputId": "18f9965f-e6a5-4d9e-f334-7841c6818ab7"
      },
      "outputs": [
        {
          "output_type": "stream",
          "name": "stdout",
          "text": [
            "Best cross validation score: 0.7415052494122193\n",
            "\n",
            "             Test set score: 0.6864686468646864\n",
            "\n",
            "                Best params: {'perceptron__alpha': 0.01, 'perceptron__l1_ratio': 0.25, 'perceptron__penalty': 'elasticnet', 'std': None}\n",
            "\n"
          ]
        }
      ],
      "source": [
        "models = {}\n",
        "\n",
        "\n",
        "from sklearn.model_selection import GridSearchCV\n",
        "from sklearn import metrics\n",
        "\n",
        "std_perceptron = Pipeline([\n",
        "    ('std', None),\n",
        "    ('perceptron', Perceptron(n_jobs=-1, early_stopping=True, n_iter_no_change=5))\n",
        "])\n",
        "\n",
        "parameters = [\n",
        "    {\n",
        "        \"std\": [None, StandardScaler()],\n",
        "        \"perceptron__penalty\": [\"l2\", \"l1\"],\n",
        "        'perceptron__alpha': [0.0001, 0.001, 0.01, 1, 10],\n",
        "    },\n",
        "    {\n",
        "        \"std\": [None, StandardScaler()],\n",
        "        \"perceptron__penalty\": [\"none\"]\n",
        "    },\n",
        "    {\n",
        "        \"std\": [None, StandardScaler()],\n",
        "        \"perceptron__penalty\": [\"elasticnet\"],\n",
        "        'perceptron__alpha': [0.0001, 0.001, 0.01, 1, 10],\n",
        "        'perceptron__l1_ratio':np.linspace(0,1,5)\n",
        "\n",
        "    }\n",
        "]\n",
        "\n",
        "perceptron_cv = GridSearchCV(std_perceptron, parameters, cv=skf, n_jobs=-1, scoring='f1')\n",
        "perceptron_cv.fit(X_train, y_train)\n",
        "\n",
        "score = perceptron_cv.score(X_val, y_val)\n",
        "\n",
        "print(\"Best cross validation score: {}\\n\".format(perceptron_cv.best_score_))\n",
        "print(\"             Test set score: {}\\n\".format(score))\n",
        "print(\"                Best params: {}\\n\".format(perceptron_cv.best_params_))\n",
        "\n",
        "models[\"Perceptron\"] = {\"Model\": perceptron_cv.best_estimator_, \"Score\": perceptron_cv.best_score_}\n",
        "\n"
      ]
    },
    {
      "cell_type": "code",
      "execution_count": 361,
      "metadata": {
        "id": "4tQGNWmKyDyr",
        "colab": {
          "base_uri": "https://localhost:8080/"
        },
        "outputId": "0c77d52b-9142-44bf-a72f-5c9b5b080988"
      },
      "outputs": [
        {
          "output_type": "execute_result",
          "data": {
            "text/plain": [
              "Artist Followers             139429.030093\n",
              "ArtistsTopCharted                96.644540\n",
              "Loudness                         60.973224\n",
              "trap latino                       4.471886\n",
              "Bad Bunny                         3.385476\n",
              "reggaeton                         3.336323\n",
              "latin                             1.132919\n",
              "The Weeknd                        0.916305\n",
              "canadian contemporary r&b         0.883033\n",
              "canadian pop                      0.353440\n",
              "dtype: float64"
            ]
          },
          "metadata": {},
          "execution_count": 361
        }
      ],
      "source": [
        "tmp_per=pd.Series(perceptron_cv.best_estimator_[1].coef_[0], index=X_train.columns,)\n",
        "tmp_per.sort_values(ascending=False).head(10)"
      ]
    },
    {
      "cell_type": "code",
      "execution_count": 362,
      "metadata": {
        "id": "JFjxAoF1OJHr",
        "colab": {
          "base_uri": "https://localhost:8080/"
        },
        "outputId": "7da4913e-e766-4004-87e2-01587fbf282a"
      },
      "outputs": [
        {
          "output_type": "stream",
          "name": "stdout",
          "text": [
            "              precision    recall  f1-score   support\n",
            "\n",
            "           0       0.50      0.35      0.41       189\n",
            "           1       0.63      0.76      0.69       275\n",
            "\n",
            "    accuracy                           0.59       464\n",
            "   macro avg       0.56      0.55      0.55       464\n",
            "weighted avg       0.57      0.59      0.57       464\n",
            "\n"
          ]
        }
      ],
      "source": [
        "pred = perceptron_cv.predict(X_val)\n",
        "print(classification_report(y_val, pred))"
      ]
    },
    {
      "cell_type": "markdown",
      "metadata": {
        "id": "Uss-HadCyrxL"
      },
      "source": [
        "###Logistic Regression"
      ]
    },
    {
      "cell_type": "code",
      "execution_count": 363,
      "metadata": {
        "id": "XVELNuytFuN6",
        "colab": {
          "base_uri": "https://localhost:8080/"
        },
        "outputId": "ae889fc2-4db6-4392-f047-9553c58a9f70"
      },
      "outputs": [
        {
          "output_type": "stream",
          "name": "stdout",
          "text": [
            "Best cross validation score: 0.7324058980488993\n",
            "\n",
            "             Test set score: 0.7326732673267327\n",
            "\n",
            "                Best params: {'lr__C': 0.32500000000000007, 'lr__penalty': 'l2', 'std': None}\n",
            "\n"
          ]
        },
        {
          "output_type": "stream",
          "name": "stderr",
          "text": [
            "/usr/local/lib/python3.8/dist-packages/sklearn/linear_model/_sag.py:352: ConvergenceWarning: The max_iter was reached which means the coef_ did not converge\n",
            "  warnings.warn(\n"
          ]
        }
      ],
      "source": [
        "from sklearn.linear_model import LogisticRegression\n",
        "from sklearn.preprocessing import StandardScaler\n",
        "from sklearn.pipeline import Pipeline\n",
        "\n",
        "std_lr = Pipeline([\n",
        "    ('std', StandardScaler()),\n",
        "    ('lr', LogisticRegression(solver=\"saga\"))\n",
        "])\n",
        "\n",
        "\n",
        "parameters = [\n",
        "    {\n",
        "        \"std\": [None, StandardScaler()],\n",
        "        \"lr__penalty\": [\"none\"]\n",
        "    },\n",
        "    {\n",
        "        \"std\": [None, StandardScaler()],\n",
        "        \"lr__penalty\": [\"l2\", \"l1\"],\n",
        "        \"lr__C\": np.linspace(0.1, 0.4, 5),\n",
        "\n",
        "    },\n",
        "    {\n",
        "        \"std\": [None, StandardScaler()],\n",
        "        \"lr__penalty\": [\"elasticnet\"],\n",
        "        \"lr__C\": np.linspace(0.1, 0.4, 5),\n",
        "        \"lr__l1_ratio\":  [0.1,0.2,0.5,1],\n",
        "    }\n",
        "]\n",
        "\n",
        "\n",
        "\n",
        "lr_gs = GridSearchCV(std_lr, parameters,cv=skf, n_jobs=-1, return_train_score=False, scoring='f1')\n",
        "lr_gs.fit(X_train, y_train)\n",
        "\n",
        "\n",
        "score = lr_gs.score(X_val, y_val)\n",
        "\n",
        "print(\"Best cross validation score: {}\\n\".format(lr_gs.best_score_))\n",
        "print(\"             Test set score: {}\\n\".format(score))\n",
        "print(\"                Best params: {}\\n\".format(lr_gs.best_params_))\n",
        "\n",
        "models[\"Logistic Regression\"] = {\"Model\": lr_gs.best_estimator_, \"Score\": lr_gs.best_score_}\n"
      ]
    },
    {
      "cell_type": "code",
      "execution_count": 364,
      "metadata": {
        "id": "989AxZMkFuN8",
        "colab": {
          "base_uri": "https://localhost:8080/"
        },
        "outputId": "786a3c3a-81bd-49f3-c5cf-8282501a4541"
      },
      "outputs": [
        {
          "output_type": "stream",
          "name": "stdout",
          "text": [
            "              precision    recall  f1-score   support\n",
            "\n",
            "           0       0.50      0.08      0.14       189\n",
            "           1       0.60      0.94      0.73       275\n",
            "\n",
            "    accuracy                           0.59       464\n",
            "   macro avg       0.55      0.51      0.44       464\n",
            "weighted avg       0.56      0.59      0.49       464\n",
            "\n"
          ]
        }
      ],
      "source": [
        "pred = lr_gs.predict(X_val)\n",
        "print(classification_report(y_val, pred))"
      ]
    },
    {
      "cell_type": "code",
      "execution_count": 365,
      "metadata": {
        "id": "Nqr4CCaSp9Dh",
        "colab": {
          "base_uri": "https://localhost:8080/"
        },
        "outputId": "01c74f90-17ec-445f-e2ea-cc17012ce9fe"
      },
      "outputs": [
        {
          "output_type": "execute_result",
          "data": {
            "text/plain": [
              "Duration         -4.262663e-08\n",
              "Tempo            -2.849690e-11\n",
              "german hip hop   -2.867110e-13\n",
              "post-teen pop    -2.442517e-13\n",
              "dance pop        -2.438539e-13\n",
              "Energy           -2.369732e-13\n",
              "rock             -2.114684e-13\n",
              "Valence          -1.992310e-13\n",
              "pop              -1.842654e-13\n",
              "pop rap          -1.539532e-13\n",
              "dtype: float64"
            ]
          },
          "metadata": {},
          "execution_count": 365
        }
      ],
      "source": [
        "tmp_lre=pd.Series(lr_gs.best_estimator_[1].coef_[0], index=X_train.columns)\n",
        "tmp_lre.sort_values(ascending=True).head(10)"
      ]
    },
    {
      "cell_type": "code",
      "source": [
        "tmp_lre.sort_values(ascending=False).head(10)"
      ],
      "metadata": {
        "colab": {
          "base_uri": "https://localhost:8080/"
        },
        "id": "k6Delgk1dOVr",
        "outputId": "05d6d10c-0d5c-4961-b7b1-a777de0db509"
      },
      "execution_count": 366,
      "outputs": [
        {
          "output_type": "execute_result",
          "data": {
            "text/plain": [
              "Artist Followers     2.984640e-08\n",
              "ArtistsTopCharted    3.926651e-11\n",
              "trap latino          4.312594e-13\n",
              "reggaeton            3.276972e-13\n",
              "Bad Bunny            2.816318e-13\n",
              "latin                2.213808e-13\n",
              "Pop Smoke            1.431138e-13\n",
              "trap                 1.392336e-13\n",
              "Travis Scott         1.278026e-13\n",
              "brooklyn drill       1.274375e-13\n",
              "dtype: float64"
            ]
          },
          "metadata": {},
          "execution_count": 366
        }
      ]
    },
    {
      "cell_type": "markdown",
      "metadata": {
        "id": "U49g0jk5y7F1"
      },
      "source": [
        "###Random Forest"
      ]
    },
    {
      "cell_type": "code",
      "execution_count": 367,
      "metadata": {
        "id": "MDVK9NyIFuOG",
        "colab": {
          "base_uri": "https://localhost:8080/"
        },
        "outputId": "542f8bb8-0600-4bf7-ded0-0017872bcb4a"
      },
      "outputs": [
        {
          "output_type": "stream",
          "name": "stdout",
          "text": [
            "Best cross validation score: 0.7507802190023352\n",
            "\n",
            "             Test set score: 0.7422969187675069\n",
            "\n",
            "                Best params: {'rfc__max_depth': 8, 'rfc__min_samples_leaf': 2, 'rfc__min_samples_split': 20, 'rfc__n_estimators': 300}\n",
            "\n"
          ]
        }
      ],
      "source": [
        "from sklearn.ensemble import RandomForestClassifier\n",
        "from sklearn.metrics import classification_report\n",
        "\n",
        "rfc = Pipeline([\n",
        "    ('std', StandardScaler()),\n",
        "    ('rfc', RandomForestClassifier(n_jobs=-1, random_state=3))\n",
        "])\n",
        "\n",
        "parameters = {\n",
        "    'rfc__n_estimators': [100, 200, 300],\n",
        "    'rfc__max_depth': [2, 4, 6, 8, 10],\n",
        "    'rfc__min_samples_leaf': [2,2,10],\n",
        "    'rfc__min_samples_split': [2,10,20],\n",
        "}\n",
        "    \n",
        "\n",
        "rfc_gs = GridSearchCV(rfc, parameters, cv=skf, n_jobs=-1, return_train_score=True, scoring='f1')\n",
        "rfc_gs.fit(X_train, y_train)\n",
        "\n",
        "score = rfc_gs.score(X_val, y_val)\n",
        "\n",
        "print(\"Best cross validation score: {}\\n\".format(rfc_gs.best_score_))\n",
        "print(\"             Test set score: {}\\n\".format(score))\n",
        "print(\"                Best params: {}\\n\".format(rfc_gs.best_params_))\n",
        "\n",
        "models[\"RandomForest\"] = {\"Model\": rfc_gs.best_estimator_, \"Score\": rfc_gs.best_score_}\n"
      ]
    },
    {
      "cell_type": "code",
      "execution_count": 368,
      "metadata": {
        "id": "wENDtm5eFuOH",
        "colab": {
          "base_uri": "https://localhost:8080/"
        },
        "outputId": "7341191d-1839-4f8c-ddc4-38c115825473"
      },
      "outputs": [
        {
          "output_type": "stream",
          "name": "stdout",
          "text": [
            "              precision    recall  f1-score   support\n",
            "\n",
            "           0       0.60      0.08      0.14       189\n",
            "           1       0.60      0.96      0.74       275\n",
            "\n",
            "    accuracy                           0.60       464\n",
            "   macro avg       0.60      0.52      0.44       464\n",
            "weighted avg       0.60      0.60      0.50       464\n",
            "\n"
          ]
        }
      ],
      "source": [
        "pred = rfc_gs.predict(X_val)\n",
        "\n",
        "print(classification_report(y_val, pred))"
      ]
    },
    {
      "cell_type": "code",
      "execution_count": 369,
      "metadata": {
        "id": "YhVP_vKGF7En",
        "colab": {
          "base_uri": "https://localhost:8080/"
        },
        "outputId": "3aa4d0a6-49f5-4d28-d195-6b7ca825713b"
      },
      "outputs": [
        {
          "output_type": "execute_result",
          "data": {
            "text/plain": [
              "ArtistsTopCharted    0.106390\n",
              "Artist Followers     0.088397\n",
              "Danceability         0.044274\n",
              "Loudness             0.044213\n",
              "Energy               0.038088\n",
              "Bad Bunny            0.029863\n",
              "Valence              0.026730\n",
              "Duration             0.023769\n",
              "german hip hop       0.023250\n",
              "Tempo                0.022466\n",
              "dtype: float64"
            ]
          },
          "metadata": {},
          "execution_count": 369
        }
      ],
      "source": [
        "tmp_rf=pd.Series(rfc_gs.best_estimator_[1].feature_importances_, index=X_train.columns)\n",
        "tmp_rf.sort_values(ascending=False).head(10)"
      ]
    },
    {
      "cell_type": "markdown",
      "metadata": {
        "id": "naLAYaJbDKeH"
      },
      "source": [
        "###Decision Tree"
      ]
    },
    {
      "cell_type": "code",
      "execution_count": 370,
      "metadata": {
        "id": "JdXoA57vFtYr",
        "colab": {
          "base_uri": "https://localhost:8080/"
        },
        "outputId": "e11cf880-a7c4-4d50-88e9-d7625d2f99cd"
      },
      "outputs": [
        {
          "output_type": "stream",
          "name": "stdout",
          "text": [
            "Best cross validation score: 0.7104846499119334\n",
            "\n",
            "             Test set score: 0.5900216919739696\n",
            "\n",
            "                Best params: {'scaler': None, 'tree__max_depth': 3}\n",
            "\n"
          ]
        }
      ],
      "source": [
        "tree_model = Pipeline([\n",
        "    (\"scaler\", StandardScaler()),\n",
        "    (\"tree\", DecisionTreeClassifier(random_state=42))\n",
        "])\n",
        "\n",
        "tree_grid = {\"scaler\": [None, StandardScaler()],\n",
        "             'tree__max_depth': [i for i in range(2, 7)]\n",
        "             }\n",
        "\n",
        "tree_gs = GridSearchCV(tree_model, tree_grid, cv=skf, n_jobs=-1, return_train_score=True, scoring='f1')\n",
        "tree_gs.fit(X_train, y_train)\n",
        "\n",
        "score = tree_gs.score(X_val, y_val)\n",
        "\n",
        "print(\"Best cross validation score: {}\\n\".format(tree_gs.best_score_))\n",
        "print(\"             Test set score: {}\\n\".format(score))\n",
        "print(\"                Best params: {}\\n\".format(tree_gs.best_params_))\n",
        "\n",
        "\n",
        "models[\"Decision Tree\"] = {\"Model\": tree_gs.best_estimator_, \"Score\": tree_gs.best_score_}\n"
      ]
    },
    {
      "cell_type": "code",
      "execution_count": 371,
      "metadata": {
        "id": "kp2sqC5TR7Bj",
        "colab": {
          "base_uri": "https://localhost:8080/"
        },
        "outputId": "2a51a609-29ad-4654-d75b-d969ceda242c"
      },
      "outputs": [
        {
          "output_type": "stream",
          "name": "stdout",
          "text": [
            "              precision    recall  f1-score   support\n",
            "\n",
            "           0       0.50      0.74      0.60       189\n",
            "           1       0.73      0.49      0.59       275\n",
            "\n",
            "    accuracy                           0.59       464\n",
            "   macro avg       0.62      0.61      0.59       464\n",
            "weighted avg       0.64      0.59      0.59       464\n",
            "\n"
          ]
        }
      ],
      "source": [
        "pred = tree_gs.predict(X_val)\n",
        "\n",
        "print(classification_report(y_val, pred))"
      ]
    },
    {
      "cell_type": "code",
      "execution_count": 372,
      "metadata": {
        "id": "TXdP9NimFzpK",
        "colab": {
          "base_uri": "https://localhost:8080/"
        },
        "outputId": "1f334944-847c-47fc-b2e4-d3c03591e657"
      },
      "outputs": [
        {
          "output_type": "execute_result",
          "data": {
            "text/plain": [
              "ArtistsTopCharted    0.604700\n",
              "Danceability         0.092431\n",
              "k-pop girl group     0.083950\n",
              "reggaeton flow       0.083679\n",
              "Loudness             0.076981\n",
              "Artist Followers     0.045950\n",
              "Acousticness         0.012308\n",
              "Liveness             0.000000\n",
              "Gzuz                 0.000000\n",
              "Maes                 0.000000\n",
              "dtype: float64"
            ]
          },
          "metadata": {},
          "execution_count": 372
        }
      ],
      "source": [
        "tmp_tree=pd.Series(tree_gs.best_estimator_[1].feature_importances_, index=X_train.columns)\n",
        "tmp_tree.sort_values(ascending=False).head(10)"
      ]
    },
    {
      "cell_type": "markdown",
      "metadata": {
        "id": "1L959a35FtYu"
      },
      "source": [
        "### Confronto con modello casuale"
      ]
    },
    {
      "cell_type": "code",
      "execution_count": 373,
      "metadata": {
        "id": "MiPtcMc8FtYu"
      },
      "outputs": [],
      "source": [
        "from sklearn.dummy import DummyClassifier"
      ]
    },
    {
      "cell_type": "markdown",
      "metadata": {
        "id": "6k-TW4yzFtYu"
      },
      "source": [
        "Viene creato un modello casuale"
      ]
    },
    {
      "cell_type": "code",
      "execution_count": 374,
      "metadata": {
        "id": "96tAPXLeQc9D"
      },
      "outputs": [],
      "source": [
        "random = DummyClassifier(strategy=\"uniform\", random_state=42)\n",
        "random.fit(X_train, y_train)\n",
        "\n",
        "random_score = random.score(X_val, y_val)\n",
        "models[\"Dummy\"] = {\"Model\" : random, \"Score\": random_score}"
      ]
    },
    {
      "cell_type": "markdown",
      "metadata": {
        "id": "PgD_zdRNDZ8g"
      },
      "source": [
        "#Riepilogo Accuratezza dei Modelli"
      ]
    },
    {
      "cell_type": "code",
      "execution_count": 375,
      "metadata": {
        "id": "x7MlBKbJFtYs",
        "colab": {
          "base_uri": "https://localhost:8080/"
        },
        "outputId": "ab587cb4-d789-4778-c291-f794282237c8"
      },
      "outputs": [
        {
          "output_type": "stream",
          "name": "stdout",
          "text": [
            "------------------  -------------------  ------------------  ------------------  ------------------\n",
            "Perceptron          Logistic Regression  RandomForest        Decision Tree       Dummy\n",
            "0.7415052494122193  0.7324058980488993   0.7507802190023352  0.7104846499119334  0.4698275862068966\n",
            "------------------  -------------------  ------------------  ------------------  ------------------\n"
          ]
        }
      ],
      "source": [
        "from tabulate import tabulate\n",
        "model_name=list()\n",
        "model_score=list()\n",
        "[[model_name.append(name),model_score.append(model[\"Score\"])] for name,model in models.items()];\n",
        "\n",
        "print(tabulate([model_name,model_score]))"
      ]
    },
    {
      "cell_type": "markdown",
      "source": [
        "#Valutazione dei modelli di classificazione"
      ],
      "metadata": {
        "id": "ThVcBJQ5ivnL"
      }
    },
    {
      "cell_type": "markdown",
      "source": [
        "L'accuratezza non è una buona stima della capacità predittiva di un modello di classificazione, in particolare nei casi in cui il dataset è sbilanciato, perchè contiene maggiori record appartenenti ad una classe."
      ],
      "metadata": {
        "id": "iRSvJ6Tmi66a"
      }
    },
    {
      "cell_type": "markdown",
      "source": [
        "##Precision, Recall, F1-Score"
      ],
      "metadata": {
        "id": "WuF16tGkjVnt"
      }
    },
    {
      "cell_type": "code",
      "execution_count": 376,
      "metadata": {
        "id": "VWNCt0SDFtYs"
      },
      "outputs": [],
      "source": [
        "from sklearn.metrics import confusion_matrix\n",
        "from sklearn.metrics import precision_score, recall_score, f1_score"
      ]
    },
    {
      "cell_type": "markdown",
      "source": [
        "Costruisco una matrice di confusione per ogni modello creato in precedenza, calcolando la *Precisione*, la *Recall* e l' *F1-Score*."
      ],
      "metadata": {
        "id": "mCeU-sMwjfjB"
      }
    },
    {
      "cell_type": "code",
      "execution_count": 377,
      "metadata": {
        "id": "wzeX_mhIFtYs"
      },
      "outputs": [],
      "source": [
        "def calculate_precision_recall_f1(name, X, y) :\n",
        "    model = models[name]\n",
        "    y_pred = model[\"Model\"].predict(X)\n",
        "    \n",
        "    model[\"Precision\"] = precision_score(y, y_pred)\n",
        "    model[\"Recall\"] = recall_score(y, y_pred)\n",
        "    model[\"F1_Score\"] = f1_score(y, y_pred, average=\"macro\")\n",
        "    print(\"<< {} >> \\n \\\n",
        "                              Confusion matrix: \\n      {}\\n\\n \\\n",
        "           Precision       : {}\\n \\\n",
        "           Recall          : {}\\n \\\n",
        "           F1 Score (macro): {}\\n\\n\\n \\\n",
        "----------------------------------------------------------------\".format(name, \n",
        "                                 pd.DataFrame(confusion_matrix(y, y_pred), index=classes, columns=classes), \n",
        "                                 model[\"Precision\"], \n",
        "                                 model[\"Recall\"], \n",
        "                                 model[\"F1_Score\"]))"
      ]
    },
    {
      "cell_type": "code",
      "execution_count": 378,
      "metadata": {
        "id": "tAMF4r95FtYt",
        "scrolled": false,
        "colab": {
          "base_uri": "https://localhost:8080/"
        },
        "outputId": "f471f59f-ba72-4798-eac3-4cd5380da5fa"
      },
      "outputs": [
        {
          "output_type": "stream",
          "name": "stdout",
          "text": [
            "<< Perceptron >> \n",
            "                               Confusion matrix: \n",
            "                       NonInClassifica  Top100Chart\n",
            "NonInClassifica               66          123\n",
            "Top100Chart                   67          208\n",
            "\n",
            "            Precision       : 0.6283987915407855\n",
            "            Recall          : 0.7563636363636363\n",
            "            F1 Score (macro): 0.5482032675317221\n",
            "\n",
            "\n",
            " ----------------------------------------------------------------\n",
            "<< Logistic Regression >> \n",
            "                               Confusion matrix: \n",
            "                       NonInClassifica  Top100Chart\n",
            "NonInClassifica               16          173\n",
            "Top100Chart                   16          259\n",
            "\n",
            "            Precision       : 0.5995370370370371\n",
            "            Recall          : 0.9418181818181818\n",
            "            F1 Score (macro): 0.43873482370861516\n",
            "\n",
            "\n",
            " ----------------------------------------------------------------\n",
            "<< RandomForest >> \n",
            "                               Confusion matrix: \n",
            "                       NonInClassifica  Top100Chart\n",
            "NonInClassifica               15          174\n",
            "Top100Chart                   10          265\n",
            "\n",
            "            Precision       : 0.6036446469248291\n",
            "            Recall          : 0.9636363636363636\n",
            "            F1 Score (macro): 0.4412419173276787\n",
            "\n",
            "\n",
            " ----------------------------------------------------------------\n",
            "<< Decision Tree >> \n",
            "                               Confusion matrix: \n",
            "                       NonInClassifica  Top100Chart\n",
            "NonInClassifica              139           50\n",
            "Top100Chart                  139          136\n",
            "\n",
            "            Precision       : 0.7311827956989247\n",
            "            Recall          : 0.49454545454545457\n",
            "            F1 Score (macro): 0.5926553856015458\n",
            "\n",
            "\n",
            " ----------------------------------------------------------------\n",
            "<< Dummy >> \n",
            "                               Confusion matrix: \n",
            "                       NonInClassifica  Top100Chart\n",
            "NonInClassifica               84          105\n",
            "Top100Chart                  141          134\n",
            "\n",
            "            Precision       : 0.5606694560669456\n",
            "            Recall          : 0.48727272727272725\n",
            "            F1 Score (macro): 0.463598939829696\n",
            "\n",
            "\n",
            " ----------------------------------------------------------------\n"
          ]
        }
      ],
      "source": [
        "classes = [\"NonInClassifica\" , \"Top100Chart\"]\n",
        "for name, model in models.items():\n",
        "    calculate_precision_recall_f1(name, X_val, y_val)"
      ]
    },
    {
      "cell_type": "markdown",
      "source": [
        "##Confronto modelli con intervalli di confidenza"
      ],
      "metadata": {
        "id": "oN1F7pgCnuD8"
      }
    },
    {
      "cell_type": "code",
      "execution_count": 379,
      "metadata": {
        "id": "3ZIdsumQFtYt",
        "scrolled": true,
        "colab": {
          "base_uri": "https://localhost:8080/"
        },
        "outputId": "c68835a2-e190-4fb6-bc11-5676cb79d5b2"
      },
      "outputs": [
        {
          "output_type": "stream",
          "name": "stdout",
          "text": [
            "RandomForest vs Logistic Regression , intervallo di confidenza:\n",
            "Valore minimo: -0.05109737574873594\n",
            "Valore massimo: 0.05611156298686302\n",
            "\n",
            "RandomForest vs Decision Tree , intervallo di confidenza:\n",
            "Valore minimo: 0.09807242866412677\n",
            "Valore massimo: 0.20475450788360752\n",
            "\n",
            "Logistic Regression vs Decision Tree , intervallo di confidenza:\n",
            "Valore minimo: 0.10059597160500008\n",
            "Valore massimo: 0.2072451521808613\n",
            "\n",
            "RandomForest vs Perceptron , intervallo di confidenza:\n",
            "Valore minimo: 0.05327916913141081\n",
            "Valore massimo: 0.160643531276676\n",
            "\n",
            "Decision Tree vs Perceptron , intervallo di confidenza:\n",
            "Valore minimo: -0.008950591204961396\n",
            "Valore massimo: 0.09785482734460887\n",
            "\n"
          ]
        }
      ],
      "source": [
        "#Verifichiamo con confidenza al 95% se la F1-Score dei modelli non è statisticamente più significativa una dall'altra.\n",
        "\n",
        "def difference_between_two_models(error1, error2, confidence):\n",
        "    z_half_alfa = stats.norm.ppf(confidence)\n",
        "    variance = (((1 - error1) * error1) / len(y_val)) + (((1 - error2) * error2) / len(y_val))\n",
        "    d_minus = abs(error1 - error2) - z_half_alfa * (pow(variance, 0.5))\n",
        "    d_plus = abs(error1 - error2) + z_half_alfa * (pow(variance, 0.5))\n",
        "    print(\"Valore minimo: {}\\nValore massimo: {}\\n\".format(d_minus, d_plus))\n",
        "\n",
        "lre_error = 1 - models[\"Logistic Regression\"][\"F1_Score\"]\n",
        "tree_error = 1 - models[\"Decision Tree\"][\"F1_Score\"]\n",
        "forest_error = 1 - models[\"RandomForest\"][\"F1_Score\"]\n",
        "per_error = 1 - models[\"Perceptron\"][\"F1_Score\"]\n",
        "\n",
        "\n",
        "print(\"RandomForest vs Logistic Regression , intervallo di confidenza:\")\n",
        "difference_between_two_models(forest_error, lre_error, 0.95)\n",
        "\n",
        "print(\"RandomForest vs Decision Tree , intervallo di confidenza:\")\n",
        "difference_between_two_models(forest_error, tree_error, 0.95)\n",
        "\n",
        "print(\"Logistic Regression vs Decision Tree , intervallo di confidenza:\")\n",
        "difference_between_two_models(lre_error, tree_error, 0.95)\n",
        "\n",
        "print(\"RandomForest vs Perceptron , intervallo di confidenza:\")\n",
        "difference_between_two_models(forest_error, per_error, 0.95)\n",
        "\n",
        "print(\"Decision Tree vs Perceptron , intervallo di confidenza:\")\n",
        "difference_between_two_models(tree_error, per_error, 0.95)"
      ]
    },
    {
      "cell_type": "code",
      "execution_count": 380,
      "metadata": {
        "id": "n31K9oRwFtYu",
        "scrolled": false,
        "colab": {
          "base_uri": "https://localhost:8080/"
        },
        "outputId": "aacc0a22-ef51-4c4b-dc6e-cb8eadf3587b"
      },
      "outputs": [
        {
          "output_type": "stream",
          "name": "stdout",
          "text": [
            "<< Dummy >> \n",
            "                               Confusion matrix: \n",
            "                       NonInClassifica  Top100Chart\n",
            "NonInClassifica               84          105\n",
            "Top100Chart                  141          134\n",
            "\n",
            "            Precision       : 0.5606694560669456\n",
            "            Recall          : 0.48727272727272725\n",
            "            F1 Score (macro): 0.463598939829696\n",
            "\n",
            "\n",
            " ----------------------------------------------------------------\n",
            "Valore minimo: -0.05364336914576427\n",
            "Valore massimo: 0.09835741414979891\n",
            "\n",
            "Valore minimo: -0.051113182148754335\n",
            "Valore massimo: 0.10084141439091605\n",
            "\n",
            "Valore minimo: 0.008517356426539113\n",
            "Valore massimo: 0.16069129897751305\n",
            "\n",
            "Valore minimo: 0.05345091565271745\n",
            "Valore massimo: 0.2046619758909822\n",
            "\n"
          ]
        }
      ],
      "source": [
        "calculate_precision_recall_f1(\"Dummy\", X_val, y_val)\n",
        "\n",
        "difference_between_two_models(1 - models[\"RandomForest\"][\"F1_Score\"], 1 - models[\"Dummy\"][\"F1_Score\"], 0.99)\n",
        "\n",
        "difference_between_two_models(1 - models[\"Logistic Regression\"][\"F1_Score\"], 1 - models[\"Dummy\"][\"F1_Score\"], 0.99)\n",
        "\n",
        "difference_between_two_models(1 - models[\"Perceptron\"][\"F1_Score\"], 1 - models[\"Dummy\"][\"F1_Score\"], 0.99)\n",
        "\n",
        "difference_between_two_models(1 - models[\"Decision Tree\"][\"F1_Score\"], 1 - models[\"Dummy\"][\"F1_Score\"], 0.99)"
      ]
    },
    {
      "cell_type": "markdown",
      "metadata": {
        "id": "yCckzi0-Jevd"
      },
      "source": [
        "A seguito di queste considerazioni, gli unici modelli che statisticamente sono migiori di un modello Dummy casuale sono quelli basati su Perceptron e Decision Tree"
      ]
    },
    {
      "cell_type": "code",
      "execution_count": 381,
      "metadata": {
        "id": "8yhb61RwKBrR",
        "colab": {
          "base_uri": "https://localhost:8080/"
        },
        "outputId": "f6527ef1-4cca-49bf-c674-4ef1f4818a7a"
      },
      "outputs": [
        {
          "output_type": "stream",
          "name": "stdout",
          "text": [
            "<< Perceptron >> \n",
            "                               Confusion matrix: \n",
            "                       NonInClassifica  Top100Chart\n",
            "NonInClassifica               66          123\n",
            "Top100Chart                   67          208\n",
            "\n",
            "            Precision       : 0.6283987915407855\n",
            "            Recall          : 0.7563636363636363\n",
            "            F1 Score (macro): 0.5482032675317221\n",
            "\n",
            "\n",
            " ----------------------------------------------------------------\n",
            "<< Decision Tree >> \n",
            "                               Confusion matrix: \n",
            "                       NonInClassifica  Top100Chart\n",
            "NonInClassifica              139           50\n",
            "Top100Chart                  139          136\n",
            "\n",
            "            Precision       : 0.7311827956989247\n",
            "            Recall          : 0.49454545454545457\n",
            "            F1 Score (macro): 0.5926553856015458\n",
            "\n",
            "\n",
            " ----------------------------------------------------------------\n"
          ]
        }
      ],
      "source": [
        "calculate_precision_recall_f1(\"Perceptron\", X_val, y_val)\n",
        "calculate_precision_recall_f1(\"Decision Tree\", X_val, y_val)"
      ]
    }
  ],
  "metadata": {
    "colab": {
      "provenance": [],
      "authorship_tag": "ABX9TyMDTVBQSXVKPZt3zI2HSqXg",
      "include_colab_link": true
    },
    "kernelspec": {
      "display_name": "Python 3",
      "name": "python3"
    },
    "language_info": {
      "name": "python"
    }
  },
  "nbformat": 4,
  "nbformat_minor": 0
}